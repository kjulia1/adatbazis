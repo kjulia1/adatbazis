{
    "metadata": {
        "kernelspec": {
            "name": "SQL",
            "display_name": "SQL",
            "language": "sql"
        },
        "language_info": {
            "name": "sql",
            "version": ""
        }
    },
    "nbformat_minor": 2,
    "nbformat": 4,
    "cells": [
        {
            "cell_type": "markdown",
            "source": [
                "Listázzuk azon vendégek nevét, email-címét és felhasználói nevét, akik egynél többször foglaltak!\n",
                "\n",
                "- Hagyjuk ki azokat a vendégeket, akik május hónapban születtek!"
            ],
            "metadata": {
                "azdata_cell_guid": "a18776fe-bf30-4fe7-aa2e-d6d7042d0de1"
            },
            "attachments": {}
        },
        {
            "cell_type": "code",
            "source": [
                "SELECT v.NEV, v.EMAIL, v.USERNEV, COUNT(*)\r\n",
                "FROM Foglalas f JOIN Vendeg v ON f.UGYFEL_FK=v.USERNEV\r\n",
                "WHERE MONTH(SZUL_DAT)!=5\r\n",
                "GROUP BY v.NEV, v.EMAIL, v.USERNEV\r\n",
                "HAVING COUNT(*)>1"
            ],
            "metadata": {
                "azdata_cell_guid": "c2e66fef-2a8f-4734-a589-eb5763f09123",
                "language": "sql"
            },
            "outputs": [
                {
                    "output_type": "display_data",
                    "data": {
                        "text/html": "(169 rows affected)"
                    },
                    "metadata": {}
                },
                {
                    "output_type": "display_data",
                    "data": {
                        "text/html": "Total execution time: 00:00:00.008"
                    },
                    "metadata": {}
                },
                {
                    "output_type": "execute_result",
                    "execution_count": 5,
                    "data": {
                        "application/vnd.dataresource+json": {
                            "schema": {
                                "fields": [
                                    {
                                        "name": "NEV"
                                    },
                                    {
                                        "name": "EMAIL"
                                    },
                                    {
                                        "name": "USERNEV"
                                    },
                                    {
                                        "name": "(No column name)"
                                    }
                                ]
                            },
                            "data": [
                                {
                                    "NEV": "Kiss Ádám",
                                    "EMAIL": "ádám.kiss@mail.hu",
                                    "USERNEV": "adam1",
                                    "(No column name)": "3"
                                },
                                {
                                    "NEV": "Barkóci Ádám",
                                    "EMAIL": "adam3@gmail.com",
                                    "USERNEV": "adam3",
                                    "(No column name)": "2"
                                },
                                {
                                    "NEV": "Bieniek Ádám",
                                    "EMAIL": "ádám.bieniek@mail.hu",
                                    "USERNEV": "adam4",
                                    "(No column name)": "6"
                                },
                                {
                                    "NEV": "Lengyel Ágnes",
                                    "EMAIL": "agnes@gmail.com",
                                    "USERNEV": "agnes",
                                    "(No column name)": "5"
                                },
                                {
                                    "NEV": "Hartyánszky Ágnes",
                                    "EMAIL": "agnes3@gmail.com",
                                    "USERNEV": "agnes3",
                                    "(No column name)": "3"
                                },
                                {
                                    "NEV": "Horváth Ágnes",
                                    "EMAIL": "AGNESH@gmail.com",
                                    "USERNEV": "AGNESH",
                                    "(No column name)": "6"
                                },
                                {
                                    "NEV": "Kovács Ágnes",
                                    "EMAIL": "AGNESK@gmail.com",
                                    "USERNEV": "AGNESK",
                                    "(No column name)": "3"
                                },
                                {
                                    "NEV": "Bíró Ákos",
                                    "EMAIL": "ákos.bíró@mail.hu",
                                    "USERNEV": "akos",
                                    "(No column name)": "10"
                                },
                                {
                                    "NEV": "Dunai Aladár",
                                    "EMAIL": "aladár.dunai@mail.hu",
                                    "USERNEV": "aladar",
                                    "(No column name)": "3"
                                },
                                {
                                    "NEV": "Bagóczki Alexandra",
                                    "EMAIL": "alexandra.bagóczki@mail.hu",
                                    "USERNEV": "alexandra",
                                    "(No column name)": "7"
                                },
                                {
                                    "NEV": "Tóth András",
                                    "EMAIL": "andrás.tóth@mail.hu",
                                    "USERNEV": "andras2",
                                    "(No column name)": "5"
                                },
                                {
                                    "NEV": "Molnár András",
                                    "EMAIL": "andrás.molnár@mail.hu",
                                    "USERNEV": "andras21",
                                    "(No column name)": "7"
                                },
                                {
                                    "NEV": "Vígh András",
                                    "EMAIL": "andrás.vígh@mail.hu",
                                    "USERNEV": "andras3",
                                    "(No column name)": "8"
                                },
                                {
                                    "NEV": "Back András",
                                    "EMAIL": "andras4@gmail.com",
                                    "USERNEV": "andras4",
                                    "(No column name)": "3"
                                },
                                {
                                    "NEV": "Komjáti András",
                                    "EMAIL": "andras41@gmail.com",
                                    "USERNEV": "andras41",
                                    "(No column name)": "13"
                                },
                                {
                                    "NEV": "Kiss Andrea",
                                    "EMAIL": "andrea.kiss@mail.hu",
                                    "USERNEV": "andrea",
                                    "(No column name)": "6"
                                },
                                {
                                    "NEV": "Tornyos Andrea",
                                    "EMAIL": "ANDREAT@gmail.com",
                                    "USERNEV": "ANDREAT",
                                    "(No column name)": "3"
                                },
                                {
                                    "NEV": "Pivarcsi Anett",
                                    "EMAIL": "anett.pivarcsi@mail.hu",
                                    "USERNEV": "anett3",
                                    "(No column name)": "8"
                                },
                                {
                                    "NEV": "Tóth Anikó",
                                    "EMAIL": "aniko@gmail.com",
                                    "USERNEV": "aniko",
                                    "(No column name)": "3"
                                },
                                {
                                    "NEV": "Böröcz Anikó",
                                    "EMAIL": "aniko4@gmail.com",
                                    "USERNEV": "aniko4",
                                    "(No column name)": "4"
                                },
                                {
                                    "NEV": "Simon Anikó",
                                    "EMAIL": "ANIKOS@gmail.com",
                                    "USERNEV": "ANIKOS",
                                    "(No column name)": "9"
                                },
                                {
                                    "NEV": "Hamvay-Kovács Anita",
                                    "EMAIL": "anita.hamvay-kovács@mail.hu",
                                    "USERNEV": "anita",
                                    "(No column name)": "4"
                                },
                                {
                                    "NEV": "Szűcs Annamária",
                                    "EMAIL": "annamária.szűcs@mail.hu",
                                    "USERNEV": "annamaria1",
                                    "(No column name)": "2"
                                },
                                {
                                    "NEV": "Regős Annamária",
                                    "EMAIL": "ANNAMARIAR@gmail.com",
                                    "USERNEV": "ANNAMARIAR",
                                    "(No column name)": "6"
                                },
                                {
                                    "NEV": "Jakab Áron",
                                    "EMAIL": "aron2@gmail.com",
                                    "USERNEV": "aron2",
                                    "(No column name)": "6"
                                },
                                {
                                    "NEV": "Kelemen Áron",
                                    "EMAIL": "áron.kelemen@mail.hu",
                                    "USERNEV": "ARONK",
                                    "(No column name)": "13"
                                },
                                {
                                    "NEV": "Ötvös Árpád",
                                    "EMAIL": "árpád.ötvös@mail.hu",
                                    "USERNEV": "arpad2",
                                    "(No column name)": "7"
                                },
                                {
                                    "NEV": "Móricz Árpád",
                                    "EMAIL": "árpád.móricz@mail.hu",
                                    "USERNEV": "ARPADM",
                                    "(No column name)": "6"
                                },
                                {
                                    "NEV": "Csóti Attila",
                                    "EMAIL": "attila@gmail.com",
                                    "USERNEV": "attila",
                                    "(No column name)": "3"
                                },
                                {
                                    "NEV": "Gulyás Attila",
                                    "EMAIL": "attila.gulyás@mail.hu",
                                    "USERNEV": "attila1",
                                    "(No column name)": "6"
                                },
                                {
                                    "NEV": "Baróti Attila",
                                    "EMAIL": "attila.baróti@mail.hu",
                                    "USERNEV": "attila4",
                                    "(No column name)": "3"
                                },
                                {
                                    "NEV": "Bozsik Balázs",
                                    "EMAIL": "balázs.bozsik@mail.hu",
                                    "USERNEV": "balazs1",
                                    "(No column name)": "6"
                                },
                                {
                                    "NEV": "Szűcs Balázs",
                                    "EMAIL": "balázs.szűcs@mail.hu",
                                    "USERNEV": "balazs2",
                                    "(No column name)": "10"
                                },
                                {
                                    "NEV": "Bakódy Balázs",
                                    "EMAIL": "balazs3@gmail.com",
                                    "USERNEV": "balazs3",
                                    "(No column name)": "6"
                                },
                                {
                                    "NEV": "Horváth Bálint",
                                    "EMAIL": "balint@gmail.com",
                                    "USERNEV": "balint",
                                    "(No column name)": "3"
                                },
                                {
                                    "NEV": "Molnár Bálint",
                                    "EMAIL": "balint1@gmail.com",
                                    "USERNEV": "balint1",
                                    "(No column name)": "10"
                                },
                                {
                                    "NEV": "Vukasinovity Bálint",
                                    "EMAIL": "balint2@gmail.com",
                                    "USERNEV": "balint2",
                                    "(No column name)": "2"
                                },
                                {
                                    "NEV": "Endresz Bálint",
                                    "EMAIL": "bálint.endresz@mail.hu",
                                    "USERNEV": "balu",
                                    "(No column name)": "2"
                                },
                                {
                                    "NEV": "Bagi Beáta",
                                    "EMAIL": "beáta.bagi@mail.hu",
                                    "USERNEV": "beata4",
                                    "(No column name)": "6"
                                },
                                {
                                    "NEV": "Kerényi Beatrix",
                                    "EMAIL": "beatrix.kerényi@mail.hu",
                                    "USERNEV": "BEATRIXK",
                                    "(No column name)": "9"
                                },
                                {
                                    "NEV": "Szekendi Beatrix",
                                    "EMAIL": "beatrix.szekendi@mail.hu",
                                    "USERNEV": "BEATRIXS",
                                    "(No column name)": "6"
                                },
                                {
                                    "NEV": "Farkas Béla",
                                    "EMAIL": "BELAF@gmail.com",
                                    "USERNEV": "BELAF",
                                    "(No column name)": "6"
                                },
                                {
                                    "NEV": "Győrffy Bence",
                                    "EMAIL": "bence@gmail.com",
                                    "USERNEV": "bence",
                                    "(No column name)": "9"
                                },
                                {
                                    "NEV": "Bajusz Bence",
                                    "EMAIL": "bence.bajusz@mail.hu",
                                    "USERNEV": "BENCEB",
                                    "(No column name)": "6"
                                },
                                {
                                    "NEV": "Simon Bernadett",
                                    "EMAIL": "bernadett1@gmail.com",
                                    "USERNEV": "bernadett1",
                                    "(No column name)": "7"
                                },
                                {
                                    "NEV": "Kovács Bernadett",
                                    "EMAIL": "bernadett.kovács@mail.hu",
                                    "USERNEV": "bernadett2",
                                    "(No column name)": "8"
                                },
                                {
                                    "NEV": "Orbán Bernadett",
                                    "EMAIL": "bernadett.orbán@mail.hu",
                                    "USERNEV": "BERNADETTO",
                                    "(No column name)": "7"
                                },
                                {
                                    "NEV": "Csiger Bertalan",
                                    "EMAIL": "bertalan@gmail.com",
                                    "USERNEV": "bertalan",
                                    "(No column name)": "6"
                                },
                                {
                                    "NEV": "Székely Brigitta",
                                    "EMAIL": "brigitta.székely@mail.hu",
                                    "USERNEV": "brigitta",
                                    "(No column name)": "5"
                                },
                                {
                                    "NEV": "Nagymihály Csongor",
                                    "EMAIL": "csongor.nagymihály@mail.hu",
                                    "USERNEV": "csongor3",
                                    "(No column name)": "8"
                                },
                                {
                                    "NEV": "Vörös Dániel",
                                    "EMAIL": "daniel@gmail.com",
                                    "USERNEV": "dani",
                                    "(No column name)": "9"
                                },
                                {
                                    "NEV": "Rácz Dániel",
                                    "EMAIL": "dániel.rácz@mail.hu",
                                    "USERNEV": "daniel",
                                    "(No column name)": "9"
                                },
                                {
                                    "NEV": "Keszler Dániel",
                                    "EMAIL": "dániel.keszler@mail.hu",
                                    "USERNEV": "daniel1",
                                    "(No column name)": "7"
                                },
                                {
                                    "NEV": "Ambrus Dávid",
                                    "EMAIL": "david@gmail.com",
                                    "USERNEV": "david",
                                    "(No column name)": "9"
                                },
                                {
                                    "NEV": "Sobják Dávid",
                                    "EMAIL": "david1@gmail.com",
                                    "USERNEV": "david1",
                                    "(No column name)": "6"
                                },
                                {
                                    "NEV": "Barna Debóra",
                                    "EMAIL": "debóra.barna@mail.hu",
                                    "USERNEV": "debora",
                                    "(No column name)": "4"
                                },
                                {
                                    "NEV": "Tömböly Dénes",
                                    "EMAIL": "denes@gmail.com",
                                    "USERNEV": "denes",
                                    "(No column name)": "6"
                                },
                                {
                                    "NEV": "Bittmann Edit",
                                    "EMAIL": "edit.bittmann@mail.hu",
                                    "USERNEV": "edit",
                                    "(No column name)": "7"
                                },
                                {
                                    "NEV": "Kuruc Emese",
                                    "EMAIL": "emese.kuruc@mail.hu",
                                    "USERNEV": "emese",
                                    "(No column name)": "7"
                                },
                                {
                                    "NEV": "Balogh Eszter",
                                    "EMAIL": "eszter.balogh@mail.hu",
                                    "USERNEV": "eszter2",
                                    "(No column name)": "10"
                                },
                                {
                                    "NEV": "Fülöp Eszter",
                                    "EMAIL": "eszter.fülöp@mail.hu",
                                    "USERNEV": "eszter4",
                                    "(No column name)": "3"
                                },
                                {
                                    "NEV": "Érsek Eszter",
                                    "EMAIL": "eszter.érsek@mail.hu",
                                    "USERNEV": "ESZTERE",
                                    "(No column name)": "4"
                                },
                                {
                                    "NEV": "Enyedi Éva",
                                    "EMAIL": "eva@gmail.com",
                                    "USERNEV": "eva",
                                    "(No column name)": "2"
                                },
                                {
                                    "NEV": "Perlinger Éva",
                                    "EMAIL": "eva2@gmail.com",
                                    "USERNEV": "eva2",
                                    "(No column name)": "4"
                                },
                                {
                                    "NEV": "Viktor Éva",
                                    "EMAIL": "EVAV@gmail.com",
                                    "USERNEV": "EVAV",
                                    "(No column name)": "5"
                                },
                                {
                                    "NEV": "Orosz Ferenc",
                                    "EMAIL": "ferenc.orosz@mail.hu",
                                    "USERNEV": "ferenc1",
                                    "(No column name)": "4"
                                },
                                {
                                    "NEV": "Frank Fruzsina",
                                    "EMAIL": "fruzsina4@gmail.com",
                                    "USERNEV": "fruzsina4",
                                    "(No column name)": "8"
                                },
                                {
                                    "NEV": "Köves Gábor",
                                    "EMAIL": "gabor1@gmail.com",
                                    "USERNEV": "gabor1",
                                    "(No column name)": "6"
                                },
                                {
                                    "NEV": "Telek Gábor",
                                    "EMAIL": "gábor.telek@mail.hu",
                                    "USERNEV": "gabor4",
                                    "(No column name)": "4"
                                },
                                {
                                    "NEV": "Nagy Gabriella",
                                    "EMAIL": "gabriella1@gmail.com",
                                    "USERNEV": "gabriella1",
                                    "(No column name)": "6"
                                },
                                {
                                    "NEV": "Nyíri Georgij",
                                    "EMAIL": "georgij.nyíri@mail.hu",
                                    "USERNEV": "georgij",
                                    "(No column name)": "4"
                                },
                                {
                                    "NEV": "Bárci Gusztáv",
                                    "EMAIL": "gusztav@gmail.com",
                                    "USERNEV": "gusztav",
                                    "(No column name)": "5"
                                },
                                {
                                    "NEV": "Kornseé Gyöngyi",
                                    "EMAIL": "gyöngyi.kornseé@mail.hu",
                                    "USERNEV": "GYONGYIK",
                                    "(No column name)": "7"
                                },
                                {
                                    "NEV": "Oroszi György",
                                    "EMAIL": "GYORGYO@gmail.com",
                                    "USERNEV": "GYORGYO",
                                    "(No column name)": "8"
                                },
                                {
                                    "NEV": "Nádudvari Henrik",
                                    "EMAIL": "henrik.nádudvari@mail.hu",
                                    "USERNEV": "henrik3",
                                    "(No column name)": "3"
                                },
                                {
                                    "NEV": "Andor Ibolya",
                                    "EMAIL": "ibolya.andor@mail.hu",
                                    "USERNEV": "IBOLYAA",
                                    "(No column name)": "3"
                                },
                                {
                                    "NEV": "Bosnyák Ilona",
                                    "EMAIL": "ilona3@gmail.com",
                                    "USERNEV": "ilona3",
                                    "(No column name)": "4"
                                },
                                {
                                    "NEV": "Búza Imre",
                                    "EMAIL": "imre.búza@mail.hu",
                                    "USERNEV": "imre",
                                    "(No column name)": "2"
                                },
                                {
                                    "NEV": "Papp Imre",
                                    "EMAIL": "imre.papp@mail.hu",
                                    "USERNEV": "imre1",
                                    "(No column name)": "7"
                                },
                                {
                                    "NEV": "Soós István",
                                    "EMAIL": "istvan@gmail.com",
                                    "USERNEV": "istvan",
                                    "(No column name)": "3"
                                },
                                {
                                    "NEV": "Vizi István",
                                    "EMAIL": "istván.vizi@mail.hu",
                                    "USERNEV": "istvan1",
                                    "(No column name)": "4"
                                },
                                {
                                    "NEV": "Varga István",
                                    "EMAIL": "ISTVANV@gmail.com",
                                    "USERNEV": "ISTVANV",
                                    "(No column name)": "2"
                                },
                                {
                                    "NEV": "Harangozó János",
                                    "EMAIL": "janos3@gmail.com",
                                    "USERNEV": "janos3",
                                    "(No column name)": "5"
                                },
                                {
                                    "NEV": "Giliga János",
                                    "EMAIL": "JANOSG@gmail.com",
                                    "USERNEV": "JANOSG",
                                    "(No column name)": "7"
                                },
                                {
                                    "NEV": "Pálinkás János",
                                    "EMAIL": "JANOSP@gmail.com",
                                    "USERNEV": "JANOSP",
                                    "(No column name)": "4"
                                },
                                {
                                    "NEV": "Gergely József",
                                    "EMAIL": "jozsef@gmail.com",
                                    "USERNEV": "jozsef",
                                    "(No column name)": "3"
                                },
                                {
                                    "NEV": "Vajda József",
                                    "EMAIL": "józsef.vajda@mail.hu",
                                    "USERNEV": "jozsef2",
                                    "(No column name)": "5"
                                },
                                {
                                    "NEV": "Hídasi Judit",
                                    "EMAIL": "JUDITH@gmail.com",
                                    "USERNEV": "JUDITH",
                                    "(No column name)": "3"
                                },
                                {
                                    "NEV": "Tóth Júlia",
                                    "EMAIL": "julia@gmail.com",
                                    "USERNEV": "julia",
                                    "(No column name)": "5"
                                },
                                {
                                    "NEV": "Nagy Júlia",
                                    "EMAIL": "julia4@gmail.com",
                                    "USERNEV": "julia4",
                                    "(No column name)": "2"
                                },
                                {
                                    "NEV": "Szabó Julianna",
                                    "EMAIL": "julianna4@gmail.com",
                                    "USERNEV": "julianna4",
                                    "(No column name)": "4"
                                },
                                {
                                    "NEV": "Gondos Katalin",
                                    "EMAIL": "katalin.gondos@mail.hu",
                                    "USERNEV": "kata",
                                    "(No column name)": "10"
                                },
                                {
                                    "NEV": "Horváth Katalin",
                                    "EMAIL": "katalin.horváth@mail.hu",
                                    "USERNEV": "katalin",
                                    "(No column name)": "9"
                                },
                                {
                                    "NEV": "Kertész Katalin",
                                    "EMAIL": "katalin4@gmail.com",
                                    "USERNEV": "katalin4",
                                    "(No column name)": "6"
                                },
                                {
                                    "NEV": "Kovács Katalin",
                                    "EMAIL": "katalin.kovács@mail.hu",
                                    "USERNEV": "katka",
                                    "(No column name)": "9"
                                },
                                {
                                    "NEV": "Bakó Klaudia",
                                    "EMAIL": "klaudia.bakó@mail.hu",
                                    "USERNEV": "klaudia2",
                                    "(No column name)": "3"
                                },
                                {
                                    "NEV": "Lukács Kornél",
                                    "EMAIL": "kornél.lukács@mail.hu",
                                    "USERNEV": "kornel4",
                                    "(No column name)": "3"
                                },
                                {
                                    "NEV": "Poprádi Kristóf",
                                    "EMAIL": "kristof4@gmail.com",
                                    "USERNEV": "kristof4",
                                    "(No column name)": "2"
                                },
                                {
                                    "NEV": "Horváth Krisztina",
                                    "EMAIL": "kriszti@gmail.com",
                                    "USERNEV": "kriszti",
                                    "(No column name)": "6"
                                },
                                {
                                    "NEV": "Czérna Krisztián",
                                    "EMAIL": "krisztián.czérna@mail.hu",
                                    "USERNEV": "krisztian4",
                                    "(No column name)": "12"
                                },
                                {
                                    "NEV": "Bori Krisztina",
                                    "EMAIL": "krisztina.bori@mail.hu",
                                    "USERNEV": "krisztina1",
                                    "(No column name)": "6"
                                },
                                {
                                    "NEV": "Gyárfás Krisztina",
                                    "EMAIL": "KRISZTINAG@gmail.com",
                                    "USERNEV": "KRISZTINAG",
                                    "(No column name)": "5"
                                },
                                {
                                    "NEV": "Kiss Lajos",
                                    "EMAIL": "lajos.kiss@mail.hu",
                                    "USERNEV": "lajos",
                                    "(No column name)": "3"
                                },
                                {
                                    "NEV": "Nagymihály Lajos",
                                    "EMAIL": "lajos.nagymihály@mail.hu",
                                    "USERNEV": "lala",
                                    "(No column name)": "6"
                                },
                                {
                                    "NEV": "Móra László",
                                    "EMAIL": "lászló.móra@mail.hu",
                                    "USERNEV": "laszlo2",
                                    "(No column name)": "5"
                                },
                                {
                                    "NEV": "Antal László",
                                    "EMAIL": "lászló.antal@mail.hu",
                                    "USERNEV": "LASZLOA",
                                    "(No column name)": "4"
                                },
                                {
                                    "NEV": "Nagy László",
                                    "EMAIL": "lászló.nagy@mail.hu",
                                    "USERNEV": "LASZLON",
                                    "(No column name)": "6"
                                },
                                {
                                    "NEV": "Baráth Mária",
                                    "EMAIL": "mária.baráth@mail.hu",
                                    "USERNEV": "maria1",
                                    "(No column name)": "8"
                                },
                                {
                                    "NEV": "Kispál Márk",
                                    "EMAIL": "márk.kispál@mail.hu",
                                    "USERNEV": "mark",
                                    "(No column name)": "5"
                                },
                                {
                                    "NEV": "Horváth Márk",
                                    "EMAIL": "márk.horváth@mail.hu",
                                    "USERNEV": "MARKH",
                                    "(No column name)": "4"
                                },
                                {
                                    "NEV": "Kalacsi Márton",
                                    "EMAIL": "marton@gmail.com",
                                    "USERNEV": "marton",
                                    "(No column name)": "7"
                                },
                                {
                                    "NEV": "Koza Máté",
                                    "EMAIL": "máté.koza@mail.hu",
                                    "USERNEV": "MATEK",
                                    "(No column name)": "3"
                                },
                                {
                                    "NEV": "Botka Mátyás",
                                    "EMAIL": "matyas2@gmail.com",
                                    "USERNEV": "matyas2",
                                    "(No column name)": "2"
                                },
                                {
                                    "NEV": "Szilágyi Mátyás",
                                    "EMAIL": "mátyás.szilágyi@mail.hu",
                                    "USERNEV": "MATYASS",
                                    "(No column name)": "8"
                                },
                                {
                                    "NEV": "Juhász Mihály",
                                    "EMAIL": "mihály.juhász@mail.hu",
                                    "USERNEV": "MIHALYJ",
                                    "(No column name)": "5"
                                },
                                {
                                    "NEV": "Gondos Miklós",
                                    "EMAIL": "miklos2@gmail.com",
                                    "USERNEV": "miklos2",
                                    "(No column name)": "3"
                                },
                                {
                                    "NEV": "Balla Miklós",
                                    "EMAIL": "miklós.balla@mail.hu",
                                    "USERNEV": "MIKLOSB",
                                    "(No column name)": "3"
                                },
                                {
                                    "NEV": "Mohos Mónika",
                                    "EMAIL": "mónika.mohos@mail.hu",
                                    "USERNEV": "MONIKAM",
                                    "(No column name)": "6"
                                },
                                {
                                    "NEV": "Fő Nándor",
                                    "EMAIL": "nándor.fő@mail.hu",
                                    "USERNEV": "NANDORF",
                                    "(No column name)": "3"
                                },
                                {
                                    "NEV": "Horváth Nikolett",
                                    "EMAIL": "nikolett3@gmail.com",
                                    "USERNEV": "nikolett3",
                                    "(No column name)": "4"
                                },
                                {
                                    "NEV": "Kő Nikoletta",
                                    "EMAIL": "nikoletta4@gmail.com",
                                    "USERNEV": "nikoletta4",
                                    "(No column name)": "7"
                                },
                                {
                                    "NEV": "Tatár Nikoletta",
                                    "EMAIL": "nikoletta.tatár@mail.hu",
                                    "USERNEV": "NIKOLETTAT",
                                    "(No column name)": "4"
                                },
                                {
                                    "NEV": "Szűcs Norbert",
                                    "EMAIL": "norbert@gmail.com",
                                    "USERNEV": "norbert",
                                    "(No column name)": "5"
                                },
                                {
                                    "NEV": "Hegedűs Norbert",
                                    "EMAIL": "norbert.hegedűs@mail.hu",
                                    "USERNEV": "norbert2",
                                    "(No column name)": "7"
                                },
                                {
                                    "NEV": "Mile Norbert",
                                    "EMAIL": "norbert4@gmail.com",
                                    "USERNEV": "norbert4",
                                    "(No column name)": "9"
                                },
                                {
                                    "NEV": "Béres Norbert",
                                    "EMAIL": "norbert5@gmail.com",
                                    "USERNEV": "norbert5",
                                    "(No column name)": "3"
                                },
                                {
                                    "NEV": "Barabás Pál",
                                    "EMAIL": "pál.barabás@mail.hu",
                                    "USERNEV": "pal",
                                    "(No column name)": "5"
                                },
                                {
                                    "NEV": "Kozma Péter",
                                    "EMAIL": "peter1@gmail.com",
                                    "USERNEV": "peter1",
                                    "(No column name)": "4"
                                },
                                {
                                    "NEV": "Bozsó Péter",
                                    "EMAIL": "peter2@gmail.com",
                                    "USERNEV": "peter2",
                                    "(No column name)": "4"
                                },
                                {
                                    "NEV": "Szalai Péter",
                                    "EMAIL": "peter3@gmail.com",
                                    "USERNEV": "peter3",
                                    "(No column name)": "6"
                                },
                                {
                                    "NEV": "Bíró Péter",
                                    "EMAIL": "péter.bíró@mail.hu",
                                    "USERNEV": "peter4",
                                    "(No column name)": "12"
                                },
                                {
                                    "NEV": "Berendi Péter",
                                    "EMAIL": "péter.berendi@mail.hu",
                                    "USERNEV": "PETERB",
                                    "(No column name)": "5"
                                },
                                {
                                    "NEV": "Palágyi Polla",
                                    "EMAIL": "polla@gmail.com",
                                    "USERNEV": "polla",
                                    "(No column name)": "6"
                                },
                                {
                                    "NEV": "Rácz Rajmond",
                                    "EMAIL": "rajmond.rácz@mail.hu",
                                    "USERNEV": "rajmond4",
                                    "(No column name)": "4"
                                },
                                {
                                    "NEV": "Szikszai Réka",
                                    "EMAIL": "réka.szikszai@mail.hu",
                                    "USERNEV": "reka4",
                                    "(No column name)": "5"
                                },
                                {
                                    "NEV": "Szirmai Renáta",
                                    "EMAIL": "RENATAS@gmail.com",
                                    "USERNEV": "RENATAS",
                                    "(No column name)": "5"
                                },
                                {
                                    "NEV": "Patay Róbert",
                                    "EMAIL": "robert2@gmail.com",
                                    "USERNEV": "robert2",
                                    "(No column name)": "4"
                                },
                                {
                                    "NEV": "Iván Róbert",
                                    "EMAIL": "róbert.iván@mail.hu",
                                    "USERNEV": "ROBERTI",
                                    "(No column name)": "8"
                                },
                                {
                                    "NEV": "Tóth Roland",
                                    "EMAIL": "roland@gmail.com",
                                    "USERNEV": "roland",
                                    "(No column name)": "4"
                                },
                                {
                                    "NEV": "Ferencz Roland",
                                    "EMAIL": "roland.ferencz@mail.hu",
                                    "USERNEV": "roland1",
                                    "(No column name)": "4"
                                },
                                {
                                    "NEV": "Bucskó Róza",
                                    "EMAIL": "roza2@gmail.com",
                                    "USERNEV": "roza2",
                                    "(No column name)": "3"
                                },
                                {
                                    "NEV": "Karasz Sándor",
                                    "EMAIL": "sandor@gmail.com",
                                    "USERNEV": "sandor",
                                    "(No column name)": "4"
                                },
                                {
                                    "NEV": "Farkas Sándor",
                                    "EMAIL": "sándor.farkas@mail.hu",
                                    "USERNEV": "sandor3",
                                    "(No column name)": "5"
                                },
                                {
                                    "NEV": "Nagy Sándor",
                                    "EMAIL": "sandor4@gmail.com",
                                    "USERNEV": "sandor4",
                                    "(No column name)": "4"
                                },
                                {
                                    "NEV": "Farkas Sára",
                                    "EMAIL": "sára.farkas@mail.hu",
                                    "USERNEV": "sara",
                                    "(No column name)": "12"
                                },
                                {
                                    "NEV": "Foltényi Sebastián",
                                    "EMAIL": "SEBASTIANF@gmail.com",
                                    "USERNEV": "SEBASTIANF",
                                    "(No column name)": "5"
                                },
                                {
                                    "NEV": "Rab Sebestyén",
                                    "EMAIL": "sebestyen@gmail.com",
                                    "USERNEV": "sebestyen",
                                    "(No column name)": "4"
                                },
                                {
                                    "NEV": "Miklós Szabolcs",
                                    "EMAIL": "szabolcs.miklós@mail.hu",
                                    "USERNEV": "SZABOLCSM",
                                    "(No column name)": "7"
                                },
                                {
                                    "NEV": "Szalai Szilárd",
                                    "EMAIL": "szilárd.szalai@mail.hu",
                                    "USERNEV": "SZILARDS",
                                    "(No column name)": "7"
                                },
                                {
                                    "NEV": "Tari Szilvia",
                                    "EMAIL": "szilvia.tari@mail.hu",
                                    "USERNEV": "szilvia1",
                                    "(No column name)": "9"
                                },
                                {
                                    "NEV": "Miklós Tamara",
                                    "EMAIL": "tamara.miklós@mail.hu",
                                    "USERNEV": "tamara2",
                                    "(No column name)": "2"
                                },
                                {
                                    "NEV": "Antal Tamás",
                                    "EMAIL": "tamás.antal@mail.hu",
                                    "USERNEV": "tamas",
                                    "(No column name)": "4"
                                },
                                {
                                    "NEV": "Fényes Tamás",
                                    "EMAIL": "TAMASF@gmail.com",
                                    "USERNEV": "TAMASF",
                                    "(No column name)": "9"
                                },
                                {
                                    "NEV": "Gombos Tibor",
                                    "EMAIL": "tibor.gombos@mail.hu",
                                    "USERNEV": "tibor",
                                    "(No column name)": "2"
                                },
                                {
                                    "NEV": "Kazy Tihamér",
                                    "EMAIL": "tihamér.kazy@mail.hu",
                                    "USERNEV": "tihamer",
                                    "(No column name)": "6"
                                },
                                {
                                    "NEV": "Dusha Tímea",
                                    "EMAIL": "tímea.dusha@mail.hu",
                                    "USERNEV": "timea2",
                                    "(No column name)": "5"
                                },
                                {
                                    "NEV": "Turcsik Tünde",
                                    "EMAIL": "tunde@gmail.com",
                                    "USERNEV": "tunde",
                                    "(No column name)": "8"
                                },
                                {
                                    "NEV": "Feró Valentin",
                                    "EMAIL": "valentin.feró@mail.hu",
                                    "USERNEV": "valentin",
                                    "(No column name)": "5"
                                },
                                {
                                    "NEV": "Tankó Veronika",
                                    "EMAIL": "veronika4@gmail.com",
                                    "USERNEV": "veronika4",
                                    "(No column name)": "6"
                                },
                                {
                                    "NEV": "Boros Vivien",
                                    "EMAIL": "vivien3@gmail.com",
                                    "USERNEV": "vivien3",
                                    "(No column name)": "7"
                                },
                                {
                                    "NEV": "Fodor Zoltán",
                                    "EMAIL": "zoltán.fodor@mail.hu",
                                    "USERNEV": "zoltan",
                                    "(No column name)": "2"
                                },
                                {
                                    "NEV": "Pintér Zoltán",
                                    "EMAIL": "zoltán.pintér@mail.hu",
                                    "USERNEV": "ZOLTANP",
                                    "(No column name)": "6"
                                },
                                {
                                    "NEV": "Tóth Zoltán",
                                    "EMAIL": "zoltán.tóth@mail.hu",
                                    "USERNEV": "ZOLTANT",
                                    "(No column name)": "3"
                                },
                                {
                                    "NEV": "Molnár Zsófi",
                                    "EMAIL": "zsofi1@gmail.com",
                                    "USERNEV": "zsofi1",
                                    "(No column name)": "2"
                                },
                                {
                                    "NEV": "Józsa Zsolt",
                                    "EMAIL": "ZSOLTJ@gmail.com",
                                    "USERNEV": "ZSOLTJ",
                                    "(No column name)": "6"
                                },
                                {
                                    "NEV": "Pusztai Zsuzsanna",
                                    "EMAIL": "zsuzsanna@gmail.com",
                                    "USERNEV": "zsuzsa",
                                    "(No column name)": "3"
                                },
                                {
                                    "NEV": "Varsányi Zsuzsa",
                                    "EMAIL": "zsuzsa.varsányi@mail.hu",
                                    "USERNEV": "zsuzsa3",
                                    "(No column name)": "4"
                                },
                                {
                                    "NEV": "Barta Zsuzsanna",
                                    "EMAIL": "zsuzsanna.barta@mail.hu",
                                    "USERNEV": "zsuzsanna",
                                    "(No column name)": "4"
                                },
                                {
                                    "NEV": "Vajda Zsuzsa",
                                    "EMAIL": "zsuzsa.vajda@mail.hu",
                                    "USERNEV": "ZSUZSAV",
                                    "(No column name)": "6"
                                }
                            ]
                        },
                        "text/html": "<table><tr><th>NEV</th><th>EMAIL</th><th>USERNEV</th><th>(No column name)</th></tr><tr><td>Kiss Ádám</td><td>ádám.kiss@mail.hu</td><td>adam1</td><td>3</td></tr><tr><td>Barkóci Ádám</td><td>adam3@gmail.com</td><td>adam3</td><td>2</td></tr><tr><td>Bieniek Ádám</td><td>ádám.bieniek@mail.hu</td><td>adam4</td><td>6</td></tr><tr><td>Lengyel Ágnes</td><td>agnes@gmail.com</td><td>agnes</td><td>5</td></tr><tr><td>Hartyánszky Ágnes</td><td>agnes3@gmail.com</td><td>agnes3</td><td>3</td></tr><tr><td>Horváth Ágnes</td><td>AGNESH@gmail.com</td><td>AGNESH</td><td>6</td></tr><tr><td>Kovács Ágnes</td><td>AGNESK@gmail.com</td><td>AGNESK</td><td>3</td></tr><tr><td>Bíró Ákos</td><td>ákos.bíró@mail.hu</td><td>akos</td><td>10</td></tr><tr><td>Dunai Aladár</td><td>aladár.dunai@mail.hu</td><td>aladar</td><td>3</td></tr><tr><td>Bagóczki Alexandra</td><td>alexandra.bagóczki@mail.hu</td><td>alexandra</td><td>7</td></tr><tr><td>Tóth András</td><td>andrás.tóth@mail.hu</td><td>andras2</td><td>5</td></tr><tr><td>Molnár András</td><td>andrás.molnár@mail.hu</td><td>andras21</td><td>7</td></tr><tr><td>Vígh András</td><td>andrás.vígh@mail.hu</td><td>andras3</td><td>8</td></tr><tr><td>Back András</td><td>andras4@gmail.com</td><td>andras4</td><td>3</td></tr><tr><td>Komjáti András</td><td>andras41@gmail.com</td><td>andras41</td><td>13</td></tr><tr><td>Kiss Andrea</td><td>andrea.kiss@mail.hu</td><td>andrea</td><td>6</td></tr><tr><td>Tornyos Andrea</td><td>ANDREAT@gmail.com</td><td>ANDREAT</td><td>3</td></tr><tr><td>Pivarcsi Anett</td><td>anett.pivarcsi@mail.hu</td><td>anett3</td><td>8</td></tr><tr><td>Tóth Anikó</td><td>aniko@gmail.com</td><td>aniko</td><td>3</td></tr><tr><td>Böröcz Anikó</td><td>aniko4@gmail.com</td><td>aniko4</td><td>4</td></tr><tr><td>Simon Anikó</td><td>ANIKOS@gmail.com</td><td>ANIKOS</td><td>9</td></tr><tr><td>Hamvay-Kovács Anita</td><td>anita.hamvay-kovács@mail.hu</td><td>anita</td><td>4</td></tr><tr><td>Szűcs Annamária</td><td>annamária.szűcs@mail.hu</td><td>annamaria1</td><td>2</td></tr><tr><td>Regős Annamária</td><td>ANNAMARIAR@gmail.com</td><td>ANNAMARIAR</td><td>6</td></tr><tr><td>Jakab Áron</td><td>aron2@gmail.com</td><td>aron2</td><td>6</td></tr><tr><td>Kelemen Áron</td><td>áron.kelemen@mail.hu</td><td>ARONK</td><td>13</td></tr><tr><td>Ötvös Árpád</td><td>árpád.ötvös@mail.hu</td><td>arpad2</td><td>7</td></tr><tr><td>Móricz Árpád</td><td>árpád.móricz@mail.hu</td><td>ARPADM</td><td>6</td></tr><tr><td>Csóti Attila</td><td>attila@gmail.com</td><td>attila</td><td>3</td></tr><tr><td>Gulyás Attila</td><td>attila.gulyás@mail.hu</td><td>attila1</td><td>6</td></tr><tr><td>Baróti Attila</td><td>attila.baróti@mail.hu</td><td>attila4</td><td>3</td></tr><tr><td>Bozsik Balázs</td><td>balázs.bozsik@mail.hu</td><td>balazs1</td><td>6</td></tr><tr><td>Szűcs Balázs</td><td>balázs.szűcs@mail.hu</td><td>balazs2</td><td>10</td></tr><tr><td>Bakódy Balázs</td><td>balazs3@gmail.com</td><td>balazs3</td><td>6</td></tr><tr><td>Horváth Bálint</td><td>balint@gmail.com</td><td>balint</td><td>3</td></tr><tr><td>Molnár Bálint</td><td>balint1@gmail.com</td><td>balint1</td><td>10</td></tr><tr><td>Vukasinovity Bálint</td><td>balint2@gmail.com</td><td>balint2</td><td>2</td></tr><tr><td>Endresz Bálint</td><td>bálint.endresz@mail.hu</td><td>balu</td><td>2</td></tr><tr><td>Bagi Beáta</td><td>beáta.bagi@mail.hu</td><td>beata4</td><td>6</td></tr><tr><td>Kerényi Beatrix</td><td>beatrix.kerényi@mail.hu</td><td>BEATRIXK</td><td>9</td></tr><tr><td>Szekendi Beatrix</td><td>beatrix.szekendi@mail.hu</td><td>BEATRIXS</td><td>6</td></tr><tr><td>Farkas Béla</td><td>BELAF@gmail.com</td><td>BELAF</td><td>6</td></tr><tr><td>Győrffy Bence</td><td>bence@gmail.com</td><td>bence</td><td>9</td></tr><tr><td>Bajusz Bence</td><td>bence.bajusz@mail.hu</td><td>BENCEB</td><td>6</td></tr><tr><td>Simon Bernadett</td><td>bernadett1@gmail.com</td><td>bernadett1</td><td>7</td></tr><tr><td>Kovács Bernadett</td><td>bernadett.kovács@mail.hu</td><td>bernadett2</td><td>8</td></tr><tr><td>Orbán Bernadett</td><td>bernadett.orbán@mail.hu</td><td>BERNADETTO</td><td>7</td></tr><tr><td>Csiger Bertalan</td><td>bertalan@gmail.com</td><td>bertalan</td><td>6</td></tr><tr><td>Székely Brigitta</td><td>brigitta.székely@mail.hu</td><td>brigitta</td><td>5</td></tr><tr><td>Nagymihály Csongor</td><td>csongor.nagymihály@mail.hu</td><td>csongor3</td><td>8</td></tr><tr><td>Vörös Dániel</td><td>daniel@gmail.com</td><td>dani</td><td>9</td></tr><tr><td>Rácz Dániel</td><td>dániel.rácz@mail.hu</td><td>daniel</td><td>9</td></tr><tr><td>Keszler Dániel</td><td>dániel.keszler@mail.hu</td><td>daniel1</td><td>7</td></tr><tr><td>Ambrus Dávid</td><td>david@gmail.com</td><td>david</td><td>9</td></tr><tr><td>Sobják Dávid</td><td>david1@gmail.com</td><td>david1</td><td>6</td></tr><tr><td>Barna Debóra</td><td>debóra.barna@mail.hu</td><td>debora</td><td>4</td></tr><tr><td>Tömböly Dénes</td><td>denes@gmail.com</td><td>denes</td><td>6</td></tr><tr><td>Bittmann Edit</td><td>edit.bittmann@mail.hu</td><td>edit</td><td>7</td></tr><tr><td>Kuruc Emese</td><td>emese.kuruc@mail.hu</td><td>emese</td><td>7</td></tr><tr><td>Balogh Eszter</td><td>eszter.balogh@mail.hu</td><td>eszter2</td><td>10</td></tr><tr><td>Fülöp Eszter</td><td>eszter.fülöp@mail.hu</td><td>eszter4</td><td>3</td></tr><tr><td>Érsek Eszter</td><td>eszter.érsek@mail.hu</td><td>ESZTERE</td><td>4</td></tr><tr><td>Enyedi Éva</td><td>eva@gmail.com</td><td>eva</td><td>2</td></tr><tr><td>Perlinger Éva</td><td>eva2@gmail.com</td><td>eva2</td><td>4</td></tr><tr><td>Viktor Éva</td><td>EVAV@gmail.com</td><td>EVAV</td><td>5</td></tr><tr><td>Orosz Ferenc</td><td>ferenc.orosz@mail.hu</td><td>ferenc1</td><td>4</td></tr><tr><td>Frank Fruzsina</td><td>fruzsina4@gmail.com</td><td>fruzsina4</td><td>8</td></tr><tr><td>Köves Gábor</td><td>gabor1@gmail.com</td><td>gabor1</td><td>6</td></tr><tr><td>Telek Gábor</td><td>gábor.telek@mail.hu</td><td>gabor4</td><td>4</td></tr><tr><td>Nagy Gabriella</td><td>gabriella1@gmail.com</td><td>gabriella1</td><td>6</td></tr><tr><td>Nyíri Georgij</td><td>georgij.nyíri@mail.hu</td><td>georgij</td><td>4</td></tr><tr><td>Bárci Gusztáv</td><td>gusztav@gmail.com</td><td>gusztav</td><td>5</td></tr><tr><td>Kornseé Gyöngyi</td><td>gyöngyi.kornseé@mail.hu</td><td>GYONGYIK</td><td>7</td></tr><tr><td>Oroszi György</td><td>GYORGYO@gmail.com</td><td>GYORGYO</td><td>8</td></tr><tr><td>Nádudvari Henrik</td><td>henrik.nádudvari@mail.hu</td><td>henrik3</td><td>3</td></tr><tr><td>Andor Ibolya</td><td>ibolya.andor@mail.hu</td><td>IBOLYAA</td><td>3</td></tr><tr><td>Bosnyák Ilona</td><td>ilona3@gmail.com</td><td>ilona3</td><td>4</td></tr><tr><td>Búza Imre</td><td>imre.búza@mail.hu</td><td>imre</td><td>2</td></tr><tr><td>Papp Imre</td><td>imre.papp@mail.hu</td><td>imre1</td><td>7</td></tr><tr><td>Soós István</td><td>istvan@gmail.com</td><td>istvan</td><td>3</td></tr><tr><td>Vizi István</td><td>istván.vizi@mail.hu</td><td>istvan1</td><td>4</td></tr><tr><td>Varga István</td><td>ISTVANV@gmail.com</td><td>ISTVANV</td><td>2</td></tr><tr><td>Harangozó János</td><td>janos3@gmail.com</td><td>janos3</td><td>5</td></tr><tr><td>Giliga János</td><td>JANOSG@gmail.com</td><td>JANOSG</td><td>7</td></tr><tr><td>Pálinkás János</td><td>JANOSP@gmail.com</td><td>JANOSP</td><td>4</td></tr><tr><td>Gergely József</td><td>jozsef@gmail.com</td><td>jozsef</td><td>3</td></tr><tr><td>Vajda József</td><td>józsef.vajda@mail.hu</td><td>jozsef2</td><td>5</td></tr><tr><td>Hídasi Judit</td><td>JUDITH@gmail.com</td><td>JUDITH</td><td>3</td></tr><tr><td>Tóth Júlia</td><td>julia@gmail.com</td><td>julia</td><td>5</td></tr><tr><td>Nagy Júlia</td><td>julia4@gmail.com</td><td>julia4</td><td>2</td></tr><tr><td>Szabó Julianna</td><td>julianna4@gmail.com</td><td>julianna4</td><td>4</td></tr><tr><td>Gondos Katalin</td><td>katalin.gondos@mail.hu</td><td>kata</td><td>10</td></tr><tr><td>Horváth Katalin</td><td>katalin.horváth@mail.hu</td><td>katalin</td><td>9</td></tr><tr><td>Kertész Katalin</td><td>katalin4@gmail.com</td><td>katalin4</td><td>6</td></tr><tr><td>Kovács Katalin</td><td>katalin.kovács@mail.hu</td><td>katka</td><td>9</td></tr><tr><td>Bakó Klaudia</td><td>klaudia.bakó@mail.hu</td><td>klaudia2</td><td>3</td></tr><tr><td>Lukács Kornél</td><td>kornél.lukács@mail.hu</td><td>kornel4</td><td>3</td></tr><tr><td>Poprádi Kristóf</td><td>kristof4@gmail.com</td><td>kristof4</td><td>2</td></tr><tr><td>Horváth Krisztina</td><td>kriszti@gmail.com</td><td>kriszti</td><td>6</td></tr><tr><td>Czérna Krisztián</td><td>krisztián.czérna@mail.hu</td><td>krisztian4</td><td>12</td></tr><tr><td>Bori Krisztina</td><td>krisztina.bori@mail.hu</td><td>krisztina1</td><td>6</td></tr><tr><td>Gyárfás Krisztina</td><td>KRISZTINAG@gmail.com</td><td>KRISZTINAG</td><td>5</td></tr><tr><td>Kiss Lajos</td><td>lajos.kiss@mail.hu</td><td>lajos</td><td>3</td></tr><tr><td>Nagymihály Lajos</td><td>lajos.nagymihály@mail.hu</td><td>lala</td><td>6</td></tr><tr><td>Móra László</td><td>lászló.móra@mail.hu</td><td>laszlo2</td><td>5</td></tr><tr><td>Antal László</td><td>lászló.antal@mail.hu</td><td>LASZLOA</td><td>4</td></tr><tr><td>Nagy László</td><td>lászló.nagy@mail.hu</td><td>LASZLON</td><td>6</td></tr><tr><td>Baráth Mária</td><td>mária.baráth@mail.hu</td><td>maria1</td><td>8</td></tr><tr><td>Kispál Márk</td><td>márk.kispál@mail.hu</td><td>mark</td><td>5</td></tr><tr><td>Horváth Márk</td><td>márk.horváth@mail.hu</td><td>MARKH</td><td>4</td></tr><tr><td>Kalacsi Márton</td><td>marton@gmail.com</td><td>marton</td><td>7</td></tr><tr><td>Koza Máté</td><td>máté.koza@mail.hu</td><td>MATEK</td><td>3</td></tr><tr><td>Botka Mátyás</td><td>matyas2@gmail.com</td><td>matyas2</td><td>2</td></tr><tr><td>Szilágyi Mátyás</td><td>mátyás.szilágyi@mail.hu</td><td>MATYASS</td><td>8</td></tr><tr><td>Juhász Mihály</td><td>mihály.juhász@mail.hu</td><td>MIHALYJ</td><td>5</td></tr><tr><td>Gondos Miklós</td><td>miklos2@gmail.com</td><td>miklos2</td><td>3</td></tr><tr><td>Balla Miklós</td><td>miklós.balla@mail.hu</td><td>MIKLOSB</td><td>3</td></tr><tr><td>Mohos Mónika</td><td>mónika.mohos@mail.hu</td><td>MONIKAM</td><td>6</td></tr><tr><td>Fő Nándor</td><td>nándor.fő@mail.hu</td><td>NANDORF</td><td>3</td></tr><tr><td>Horváth Nikolett</td><td>nikolett3@gmail.com</td><td>nikolett3</td><td>4</td></tr><tr><td>Kő Nikoletta</td><td>nikoletta4@gmail.com</td><td>nikoletta4</td><td>7</td></tr><tr><td>Tatár Nikoletta</td><td>nikoletta.tatár@mail.hu</td><td>NIKOLETTAT</td><td>4</td></tr><tr><td>Szűcs Norbert</td><td>norbert@gmail.com</td><td>norbert</td><td>5</td></tr><tr><td>Hegedűs Norbert</td><td>norbert.hegedűs@mail.hu</td><td>norbert2</td><td>7</td></tr><tr><td>Mile Norbert</td><td>norbert4@gmail.com</td><td>norbert4</td><td>9</td></tr><tr><td>Béres Norbert</td><td>norbert5@gmail.com</td><td>norbert5</td><td>3</td></tr><tr><td>Barabás Pál</td><td>pál.barabás@mail.hu</td><td>pal</td><td>5</td></tr><tr><td>Kozma Péter</td><td>peter1@gmail.com</td><td>peter1</td><td>4</td></tr><tr><td>Bozsó Péter</td><td>peter2@gmail.com</td><td>peter2</td><td>4</td></tr><tr><td>Szalai Péter</td><td>peter3@gmail.com</td><td>peter3</td><td>6</td></tr><tr><td>Bíró Péter</td><td>péter.bíró@mail.hu</td><td>peter4</td><td>12</td></tr><tr><td>Berendi Péter</td><td>péter.berendi@mail.hu</td><td>PETERB</td><td>5</td></tr><tr><td>Palágyi Polla</td><td>polla@gmail.com</td><td>polla</td><td>6</td></tr><tr><td>Rácz Rajmond</td><td>rajmond.rácz@mail.hu</td><td>rajmond4</td><td>4</td></tr><tr><td>Szikszai Réka</td><td>réka.szikszai@mail.hu</td><td>reka4</td><td>5</td></tr><tr><td>Szirmai Renáta</td><td>RENATAS@gmail.com</td><td>RENATAS</td><td>5</td></tr><tr><td>Patay Róbert</td><td>robert2@gmail.com</td><td>robert2</td><td>4</td></tr><tr><td>Iván Róbert</td><td>róbert.iván@mail.hu</td><td>ROBERTI</td><td>8</td></tr><tr><td>Tóth Roland</td><td>roland@gmail.com</td><td>roland</td><td>4</td></tr><tr><td>Ferencz Roland</td><td>roland.ferencz@mail.hu</td><td>roland1</td><td>4</td></tr><tr><td>Bucskó Róza</td><td>roza2@gmail.com</td><td>roza2</td><td>3</td></tr><tr><td>Karasz Sándor</td><td>sandor@gmail.com</td><td>sandor</td><td>4</td></tr><tr><td>Farkas Sándor</td><td>sándor.farkas@mail.hu</td><td>sandor3</td><td>5</td></tr><tr><td>Nagy Sándor</td><td>sandor4@gmail.com</td><td>sandor4</td><td>4</td></tr><tr><td>Farkas Sára</td><td>sára.farkas@mail.hu</td><td>sara</td><td>12</td></tr><tr><td>Foltényi Sebastián</td><td>SEBASTIANF@gmail.com</td><td>SEBASTIANF</td><td>5</td></tr><tr><td>Rab Sebestyén</td><td>sebestyen@gmail.com</td><td>sebestyen</td><td>4</td></tr><tr><td>Miklós Szabolcs</td><td>szabolcs.miklós@mail.hu</td><td>SZABOLCSM</td><td>7</td></tr><tr><td>Szalai Szilárd</td><td>szilárd.szalai@mail.hu</td><td>SZILARDS</td><td>7</td></tr><tr><td>Tari Szilvia</td><td>szilvia.tari@mail.hu</td><td>szilvia1</td><td>9</td></tr><tr><td>Miklós Tamara</td><td>tamara.miklós@mail.hu</td><td>tamara2</td><td>2</td></tr><tr><td>Antal Tamás</td><td>tamás.antal@mail.hu</td><td>tamas</td><td>4</td></tr><tr><td>Fényes Tamás</td><td>TAMASF@gmail.com</td><td>TAMASF</td><td>9</td></tr><tr><td>Gombos Tibor</td><td>tibor.gombos@mail.hu</td><td>tibor</td><td>2</td></tr><tr><td>Kazy Tihamér</td><td>tihamér.kazy@mail.hu</td><td>tihamer</td><td>6</td></tr><tr><td>Dusha Tímea</td><td>tímea.dusha@mail.hu</td><td>timea2</td><td>5</td></tr><tr><td>Turcsik Tünde</td><td>tunde@gmail.com</td><td>tunde</td><td>8</td></tr><tr><td>Feró Valentin</td><td>valentin.feró@mail.hu</td><td>valentin</td><td>5</td></tr><tr><td>Tankó Veronika</td><td>veronika4@gmail.com</td><td>veronika4</td><td>6</td></tr><tr><td>Boros Vivien</td><td>vivien3@gmail.com</td><td>vivien3</td><td>7</td></tr><tr><td>Fodor Zoltán</td><td>zoltán.fodor@mail.hu</td><td>zoltan</td><td>2</td></tr><tr><td>Pintér Zoltán</td><td>zoltán.pintér@mail.hu</td><td>ZOLTANP</td><td>6</td></tr><tr><td>Tóth Zoltán</td><td>zoltán.tóth@mail.hu</td><td>ZOLTANT</td><td>3</td></tr><tr><td>Molnár Zsófi</td><td>zsofi1@gmail.com</td><td>zsofi1</td><td>2</td></tr><tr><td>Józsa Zsolt</td><td>ZSOLTJ@gmail.com</td><td>ZSOLTJ</td><td>6</td></tr><tr><td>Pusztai Zsuzsanna</td><td>zsuzsanna@gmail.com</td><td>zsuzsa</td><td>3</td></tr><tr><td>Varsányi Zsuzsa</td><td>zsuzsa.varsányi@mail.hu</td><td>zsuzsa3</td><td>4</td></tr><tr><td>Barta Zsuzsanna</td><td>zsuzsanna.barta@mail.hu</td><td>zsuzsanna</td><td>4</td></tr><tr><td>Vajda Zsuzsa</td><td>zsuzsa.vajda@mail.hu</td><td>ZSUZSAV</td><td>6</td></tr></table>"
                    },
                    "metadata": {}
                }
            ],
            "execution_count": 5
        },
        {
            "cell_type": "markdown",
            "source": [
                "Listázzuk azon szálláshelyek azonosítóját és nevét, amelyek a saját helyükön (HELY) a legtöbb csillaggal rendelkeznek!"
            ],
            "metadata": {
                "azdata_cell_guid": "0e9588de-15e3-45af-8d8d-28f33b694ec9"
            },
            "attachments": {}
        },
        {
            "cell_type": "code",
            "source": [
                "SELECT sz1.SZALLAS_ID, sz1.SZALLAS_NEV\r\n",
                "FROM Szallashely sz1\r\n",
                "WHERE CSILLAGOK_SZAMA=(SELECT MAX(CSILLAGOK_SZAMA)\r\n",
                "                        FROM Szallashely sz2\r\n",
                "                        WHERE sz1.HELY=sz2.HELY)"
            ],
            "metadata": {
                "azdata_cell_guid": "d8580bbb-1e83-46f0-9cfd-28eca104f46e",
                "language": "sql"
            },
            "outputs": [
                {
                    "output_type": "display_data",
                    "data": {
                        "text/html": "(11 rows affected)"
                    },
                    "metadata": {}
                },
                {
                    "output_type": "display_data",
                    "data": {
                        "text/html": "Total execution time: 00:00:00.011"
                    },
                    "metadata": {}
                },
                {
                    "output_type": "execute_result",
                    "metadata": {},
                    "execution_count": 5,
                    "data": {
                        "application/vnd.dataresource+json": {
                            "schema": {
                                "fields": [
                                    {
                                        "name": "SZALLAS_ID"
                                    },
                                    {
                                        "name": "SZALLAS_NEV"
                                    }
                                ]
                            },
                            "data": [
                                {
                                    "SZALLAS_ID": "17",
                                    "SZALLAS_NEV": "Szarvas Hotel"
                                },
                                {
                                    "SZALLAS_ID": "16",
                                    "SZALLAS_NEV": "Bagoly Hotel"
                                },
                                {
                                    "SZALLAS_ID": "3",
                                    "SZALLAS_NEV": "Fortuna Apartman"
                                },
                                {
                                    "SZALLAS_ID": "18",
                                    "SZALLAS_NEV": "Fortuna Apartman"
                                },
                                {
                                    "SZALLAS_ID": "19",
                                    "SZALLAS_NEV": "Nyárfás Vendégház"
                                },
                                {
                                    "SZALLAS_ID": "21",
                                    "SZALLAS_NEV": "Müller Vendégház"
                                },
                                {
                                    "SZALLAS_ID": "13",
                                    "SZALLAS_NEV": "Riviéra Panzió"
                                },
                                {
                                    "SZALLAS_ID": "10",
                                    "SZALLAS_NEV": "Lagúna Hotel"
                                },
                                {
                                    "SZALLAS_ID": "5",
                                    "SZALLAS_NEV": "Fortuna Panzió"
                                },
                                {
                                    "SZALLAS_ID": "11",
                                    "SZALLAS_NEV": "Partiszél Vendégház"
                                },
                                {
                                    "SZALLAS_ID": "8",
                                    "SZALLAS_NEV": "Hotel Három Hattyú"
                                }
                            ]
                        },
                        "text/html": [
                            "<table>",
                            "<tr><th>SZALLAS_ID</th><th>SZALLAS_NEV</th></tr>",
                            "<tr><td>17</td><td>Szarvas Hotel</td></tr>",
                            "<tr><td>16</td><td>Bagoly Hotel</td></tr>",
                            "<tr><td>3</td><td>Fortuna Apartman</td></tr>",
                            "<tr><td>18</td><td>Fortuna Apartman</td></tr>",
                            "<tr><td>19</td><td>Nyárfás Vendégház</td></tr>",
                            "<tr><td>21</td><td>Müller Vendégház</td></tr>",
                            "<tr><td>13</td><td>Riviéra Panzió</td></tr>",
                            "<tr><td>10</td><td>Lagúna Hotel</td></tr>",
                            "<tr><td>5</td><td>Fortuna Panzió</td></tr>",
                            "<tr><td>11</td><td>Partiszél Vendégház</td></tr>",
                            "<tr><td>8</td><td>Hotel Három Hattyú</td></tr>",
                            "</table>"
                        ]
                    }
                }
            ],
            "execution_count": 5
        },
        {
            "cell_type": "markdown",
            "source": [
                "Jelenítsük meg, hogy az egyes szálláshelyek szobáit esetén a legutolsó 5 foglalás átlagosan hány főre történt!\n",
                "\n",
                "- A számításnál vegyük figyelembe a felnőtteket és a gyermekeket is\n",
                "- A foglalás dátumánál a METTOL mezőt használjuk"
            ],
            "metadata": {
                "azdata_cell_guid": "11802758-6706-49db-9acb-0f68020b959b"
            },
            "attachments": {}
        },
        {
            "cell_type": "code",
            "source": [
                "SELECT sza.SZALLAS_NEV, F.SZOBA_FK, f.METTOL, AVG(FELNOTT_SZAM+GYERMEK_SZAM) OVER(PARTITION BY sza.SZALLAS_NEV,F.SZOBA_FK ORDER BY F.METTOL ROWS BETWEEN 5 PRECEDING AND CURRENT ROW)\r\n",
                "FROM Foglalas f JOIN Szoba szo ON f.SZOBA_FK=szo.SZOBA_ID\r\n",
                "JOIN Szallashely sza ON szo.SZALLAS_FK=sza.SZALLAS_ID\r\n",
                "GROUP BY sza.SZALLAS_NEV, F.SZOBA_FK, f.METTOL"
            ],
            "metadata": {
                "azdata_cell_guid": "ba88d693-9cdf-4f84-9199-58e86acf4aff",
                "language": "sql"
            },
            "outputs": [
                {
                    "output_type": "error",
                    "evalue": "Msg 8120, Level 16, State 1, Line 1\r\nColumn 'Foglalas.FELNOTT_SZAM' is invalid in the select list because it is not contained in either an aggregate function or the GROUP BY clause.",
                    "ename": "",
                    "traceback": []
                },
                {
                    "output_type": "error",
                    "evalue": "Msg 8120, Level 16, State 1, Line 1\r\nColumn 'Foglalas.GYERMEK_SZAM' is invalid in the select list because it is not contained in either an aggregate function or the GROUP BY clause.",
                    "ename": "",
                    "traceback": []
                },
                {
                    "output_type": "display_data",
                    "data": {
                        "text/html": "Total execution time: 00:00:00.002"
                    },
                    "metadata": {}
                }
            ],
            "execution_count": 22
        },
        {
            "cell_type": "markdown",
            "source": [
                "Jelenítsük meg, hogy hány foglalás történt szobánként, naponta (METTOL), valamint szobánként, azon belül naponta \n",
                "\n",
                "- Szempontonként külön-külön számoljuk a foglalásokat\n",
                "- A foglalások száma minden esetben legalább 2 legyen"
            ],
            "metadata": {
                "azdata_cell_guid": "4b6df7c3-690b-4b0e-a81f-cefbe08c0ba4"
            },
            "attachments": {}
        },
        {
            "cell_type": "code",
            "source": [
                "SELECT SZOBA_FK, METTOL, COUNT(*)\r\n",
                "FROM Foglalas\r\n",
                "GROUP BY CUBE (SZOBA_FK, METTOL)\r\n",
                "HAVING COUNT(*)>2"
            ],
            "metadata": {
                "azdata_cell_guid": "c795b4da-de25-4db0-bcda-5bae3eeb2623",
                "language": "sql"
            },
            "outputs": [
                {
                    "output_type": "display_data",
                    "data": {
                        "text/html": "(330 rows affected)"
                    },
                    "metadata": {}
                },
                {
                    "output_type": "display_data",
                    "data": {
                        "text/html": "Total execution time: 00:00:00.012"
                    },
                    "metadata": {}
                },
                {
                    "output_type": "execute_result",
                    "metadata": {},
                    "execution_count": 15,
                    "data": {
                        "application/vnd.dataresource+json": {
                            "schema": {
                                "fields": [
                                    {
                                        "name": "SZOBA_FK"
                                    },
                                    {
                                        "name": "METTOL"
                                    },
                                    {
                                        "name": "(No column name)"
                                    }
                                ]
                            },
                            "data": [
                                {
                                    "SZOBA_FK": "NULL",
                                    "METTOL": "2016-04-06",
                                    "(No column name)": "5"
                                },
                                {
                                    "SZOBA_FK": "NULL",
                                    "METTOL": "2016-04-10",
                                    "(No column name)": "9"
                                },
                                {
                                    "SZOBA_FK": "NULL",
                                    "METTOL": "2016-04-19",
                                    "(No column name)": "4"
                                },
                                {
                                    "SZOBA_FK": "NULL",
                                    "METTOL": "2016-04-24",
                                    "(No column name)": "3"
                                },
                                {
                                    "SZOBA_FK": "NULL",
                                    "METTOL": "2016-04-27",
                                    "(No column name)": "3"
                                },
                                {
                                    "SZOBA_FK": "NULL",
                                    "METTOL": "2016-05-01",
                                    "(No column name)": "5"
                                },
                                {
                                    "SZOBA_FK": "NULL",
                                    "METTOL": "2016-05-08",
                                    "(No column name)": "5"
                                },
                                {
                                    "SZOBA_FK": "NULL",
                                    "METTOL": "2016-05-09",
                                    "(No column name)": "7"
                                },
                                {
                                    "SZOBA_FK": "NULL",
                                    "METTOL": "2016-05-12",
                                    "(No column name)": "3"
                                },
                                {
                                    "SZOBA_FK": "NULL",
                                    "METTOL": "2016-05-14",
                                    "(No column name)": "4"
                                },
                                {
                                    "SZOBA_FK": "NULL",
                                    "METTOL": "2016-05-17",
                                    "(No column name)": "3"
                                },
                                {
                                    "SZOBA_FK": "NULL",
                                    "METTOL": "2016-05-18",
                                    "(No column name)": "4"
                                },
                                {
                                    "SZOBA_FK": "NULL",
                                    "METTOL": "2016-05-21",
                                    "(No column name)": "5"
                                },
                                {
                                    "SZOBA_FK": "NULL",
                                    "METTOL": "2016-05-24",
                                    "(No column name)": "4"
                                },
                                {
                                    "SZOBA_FK": "NULL",
                                    "METTOL": "2016-05-27",
                                    "(No column name)": "3"
                                },
                                {
                                    "SZOBA_FK": "NULL",
                                    "METTOL": "2016-05-28",
                                    "(No column name)": "8"
                                },
                                {
                                    "SZOBA_FK": "NULL",
                                    "METTOL": "2016-05-29",
                                    "(No column name)": "3"
                                },
                                {
                                    "SZOBA_FK": "NULL",
                                    "METTOL": "2016-05-30",
                                    "(No column name)": "11"
                                },
                                {
                                    "SZOBA_FK": "NULL",
                                    "METTOL": "2016-06-02",
                                    "(No column name)": "4"
                                },
                                {
                                    "SZOBA_FK": "165",
                                    "METTOL": "2016-06-03",
                                    "(No column name)": "3"
                                },
                                {
                                    "SZOBA_FK": "NULL",
                                    "METTOL": "2016-06-03",
                                    "(No column name)": "9"
                                },
                                {
                                    "SZOBA_FK": "NULL",
                                    "METTOL": "2016-06-04",
                                    "(No column name)": "6"
                                },
                                {
                                    "SZOBA_FK": "NULL",
                                    "METTOL": "2016-06-06",
                                    "(No column name)": "14"
                                },
                                {
                                    "SZOBA_FK": "NULL",
                                    "METTOL": "2016-06-07",
                                    "(No column name)": "11"
                                },
                                {
                                    "SZOBA_FK": "NULL",
                                    "METTOL": "2016-06-08",
                                    "(No column name)": "4"
                                },
                                {
                                    "SZOBA_FK": "NULL",
                                    "METTOL": "2016-06-09",
                                    "(No column name)": "3"
                                },
                                {
                                    "SZOBA_FK": "NULL",
                                    "METTOL": "2016-06-10",
                                    "(No column name)": "10"
                                },
                                {
                                    "SZOBA_FK": "NULL",
                                    "METTOL": "2016-06-13",
                                    "(No column name)": "5"
                                },
                                {
                                    "SZOBA_FK": "NULL",
                                    "METTOL": "2016-06-16",
                                    "(No column name)": "8"
                                },
                                {
                                    "SZOBA_FK": "NULL",
                                    "METTOL": "2016-06-22",
                                    "(No column name)": "4"
                                },
                                {
                                    "SZOBA_FK": "NULL",
                                    "METTOL": "2016-06-23",
                                    "(No column name)": "4"
                                },
                                {
                                    "SZOBA_FK": "NULL",
                                    "METTOL": "2016-06-27",
                                    "(No column name)": "3"
                                },
                                {
                                    "SZOBA_FK": "NULL",
                                    "METTOL": "2016-06-30",
                                    "(No column name)": "3"
                                },
                                {
                                    "SZOBA_FK": "NULL",
                                    "METTOL": "2016-07-01",
                                    "(No column name)": "5"
                                },
                                {
                                    "SZOBA_FK": "NULL",
                                    "METTOL": "2016-07-03",
                                    "(No column name)": "5"
                                },
                                {
                                    "SZOBA_FK": "NULL",
                                    "METTOL": "2016-07-04",
                                    "(No column name)": "5"
                                },
                                {
                                    "SZOBA_FK": "NULL",
                                    "METTOL": "2016-07-06",
                                    "(No column name)": "3"
                                },
                                {
                                    "SZOBA_FK": "NULL",
                                    "METTOL": "2016-07-08",
                                    "(No column name)": "3"
                                },
                                {
                                    "SZOBA_FK": "NULL",
                                    "METTOL": "2016-07-12",
                                    "(No column name)": "3"
                                },
                                {
                                    "SZOBA_FK": "NULL",
                                    "METTOL": "2016-07-13",
                                    "(No column name)": "5"
                                },
                                {
                                    "SZOBA_FK": "NULL",
                                    "METTOL": "2016-07-14",
                                    "(No column name)": "6"
                                },
                                {
                                    "SZOBA_FK": "NULL",
                                    "METTOL": "2016-07-17",
                                    "(No column name)": "3"
                                },
                                {
                                    "SZOBA_FK": "NULL",
                                    "METTOL": "2016-07-18",
                                    "(No column name)": "7"
                                },
                                {
                                    "SZOBA_FK": "NULL",
                                    "METTOL": "2016-07-19",
                                    "(No column name)": "3"
                                },
                                {
                                    "SZOBA_FK": "NULL",
                                    "METTOL": "2016-07-20",
                                    "(No column name)": "10"
                                },
                                {
                                    "SZOBA_FK": "NULL",
                                    "METTOL": "2016-07-22",
                                    "(No column name)": "4"
                                },
                                {
                                    "SZOBA_FK": "NULL",
                                    "METTOL": "2016-07-24",
                                    "(No column name)": "5"
                                },
                                {
                                    "SZOBA_FK": "NULL",
                                    "METTOL": "2016-07-27",
                                    "(No column name)": "11"
                                },
                                {
                                    "SZOBA_FK": "NULL",
                                    "METTOL": "2016-07-28",
                                    "(No column name)": "7"
                                },
                                {
                                    "SZOBA_FK": "NULL",
                                    "METTOL": "2016-07-30",
                                    "(No column name)": "4"
                                },
                                {
                                    "SZOBA_FK": "NULL",
                                    "METTOL": "2016-08-01",
                                    "(No column name)": "4"
                                },
                                {
                                    "SZOBA_FK": "NULL",
                                    "METTOL": "2016-08-03",
                                    "(No column name)": "4"
                                },
                                {
                                    "SZOBA_FK": "NULL",
                                    "METTOL": "2016-08-05",
                                    "(No column name)": "3"
                                },
                                {
                                    "SZOBA_FK": "NULL",
                                    "METTOL": "2016-08-06",
                                    "(No column name)": "3"
                                },
                                {
                                    "SZOBA_FK": "NULL",
                                    "METTOL": "2016-08-12",
                                    "(No column name)": "6"
                                },
                                {
                                    "SZOBA_FK": "NULL",
                                    "METTOL": "2016-08-14",
                                    "(No column name)": "3"
                                },
                                {
                                    "SZOBA_FK": "NULL",
                                    "METTOL": "2016-08-16",
                                    "(No column name)": "12"
                                },
                                {
                                    "SZOBA_FK": "NULL",
                                    "METTOL": "2016-08-17",
                                    "(No column name)": "4"
                                },
                                {
                                    "SZOBA_FK": "NULL",
                                    "METTOL": "2016-08-20",
                                    "(No column name)": "5"
                                },
                                {
                                    "SZOBA_FK": "NULL",
                                    "METTOL": "2016-08-23",
                                    "(No column name)": "5"
                                },
                                {
                                    "SZOBA_FK": "NULL",
                                    "METTOL": "2016-08-24",
                                    "(No column name)": "10"
                                },
                                {
                                    "SZOBA_FK": "NULL",
                                    "METTOL": "2016-08-25",
                                    "(No column name)": "3"
                                },
                                {
                                    "SZOBA_FK": "NULL",
                                    "METTOL": "2016-08-28",
                                    "(No column name)": "5"
                                },
                                {
                                    "SZOBA_FK": "NULL",
                                    "METTOL": "2016-08-29",
                                    "(No column name)": "6"
                                },
                                {
                                    "SZOBA_FK": "NULL",
                                    "METTOL": "2016-09-02",
                                    "(No column name)": "3"
                                },
                                {
                                    "SZOBA_FK": "NULL",
                                    "METTOL": "2016-09-05",
                                    "(No column name)": "7"
                                },
                                {
                                    "SZOBA_FK": "NULL",
                                    "METTOL": "2016-09-08",
                                    "(No column name)": "3"
                                },
                                {
                                    "SZOBA_FK": "NULL",
                                    "METTOL": "2016-09-12",
                                    "(No column name)": "3"
                                },
                                {
                                    "SZOBA_FK": "NULL",
                                    "METTOL": "2016-09-13",
                                    "(No column name)": "4"
                                },
                                {
                                    "SZOBA_FK": "NULL",
                                    "METTOL": "2016-09-15",
                                    "(No column name)": "3"
                                },
                                {
                                    "SZOBA_FK": "NULL",
                                    "METTOL": "2016-09-16",
                                    "(No column name)": "3"
                                },
                                {
                                    "SZOBA_FK": "NULL",
                                    "METTOL": "2016-09-17",
                                    "(No column name)": "4"
                                },
                                {
                                    "SZOBA_FK": "NULL",
                                    "METTOL": "2016-09-18",
                                    "(No column name)": "4"
                                },
                                {
                                    "SZOBA_FK": "NULL",
                                    "METTOL": "2016-09-19",
                                    "(No column name)": "4"
                                },
                                {
                                    "SZOBA_FK": "NULL",
                                    "METTOL": "2016-09-23",
                                    "(No column name)": "4"
                                },
                                {
                                    "SZOBA_FK": "NULL",
                                    "METTOL": "2016-09-28",
                                    "(No column name)": "3"
                                },
                                {
                                    "SZOBA_FK": "NULL",
                                    "METTOL": "2016-09-30",
                                    "(No column name)": "8"
                                },
                                {
                                    "SZOBA_FK": "NULL",
                                    "METTOL": "2016-10-01",
                                    "(No column name)": "18"
                                },
                                {
                                    "SZOBA_FK": "NULL",
                                    "METTOL": "2016-10-03",
                                    "(No column name)": "3"
                                },
                                {
                                    "SZOBA_FK": "NULL",
                                    "METTOL": "2016-10-04",
                                    "(No column name)": "3"
                                },
                                {
                                    "SZOBA_FK": "NULL",
                                    "METTOL": "2016-10-08",
                                    "(No column name)": "7"
                                },
                                {
                                    "SZOBA_FK": "NULL",
                                    "METTOL": "2016-10-09",
                                    "(No column name)": "11"
                                },
                                {
                                    "SZOBA_FK": "NULL",
                                    "METTOL": "2016-10-15",
                                    "(No column name)": "6"
                                },
                                {
                                    "SZOBA_FK": "NULL",
                                    "METTOL": "2016-10-16",
                                    "(No column name)": "3"
                                },
                                {
                                    "SZOBA_FK": "NULL",
                                    "METTOL": "2016-10-17",
                                    "(No column name)": "3"
                                },
                                {
                                    "SZOBA_FK": "NULL",
                                    "METTOL": "2016-10-19",
                                    "(No column name)": "4"
                                },
                                {
                                    "SZOBA_FK": "NULL",
                                    "METTOL": "2016-10-20",
                                    "(No column name)": "4"
                                },
                                {
                                    "SZOBA_FK": "NULL",
                                    "METTOL": "2016-10-21",
                                    "(No column name)": "4"
                                },
                                {
                                    "SZOBA_FK": "NULL",
                                    "METTOL": "2016-10-22",
                                    "(No column name)": "4"
                                },
                                {
                                    "SZOBA_FK": "NULL",
                                    "METTOL": "2016-10-23",
                                    "(No column name)": "7"
                                },
                                {
                                    "SZOBA_FK": "NULL",
                                    "METTOL": "2016-10-24",
                                    "(No column name)": "3"
                                },
                                {
                                    "SZOBA_FK": "NULL",
                                    "METTOL": "2016-10-26",
                                    "(No column name)": "12"
                                },
                                {
                                    "SZOBA_FK": "NULL",
                                    "METTOL": "2016-10-27",
                                    "(No column name)": "4"
                                },
                                {
                                    "SZOBA_FK": "NULL",
                                    "METTOL": "2016-10-28",
                                    "(No column name)": "6"
                                },
                                {
                                    "SZOBA_FK": "NULL",
                                    "METTOL": "2016-10-29",
                                    "(No column name)": "5"
                                },
                                {
                                    "SZOBA_FK": "NULL",
                                    "METTOL": "2016-10-30",
                                    "(No column name)": "14"
                                },
                                {
                                    "SZOBA_FK": "NULL",
                                    "METTOL": "2016-11-01",
                                    "(No column name)": "3"
                                },
                                {
                                    "SZOBA_FK": "NULL",
                                    "METTOL": "2016-11-03",
                                    "(No column name)": "7"
                                },
                                {
                                    "SZOBA_FK": "NULL",
                                    "METTOL": "2016-11-05",
                                    "(No column name)": "8"
                                },
                                {
                                    "SZOBA_FK": "NULL",
                                    "METTOL": "2016-11-06",
                                    "(No column name)": "3"
                                },
                                {
                                    "SZOBA_FK": "NULL",
                                    "METTOL": "2016-11-07",
                                    "(No column name)": "6"
                                },
                                {
                                    "SZOBA_FK": "NULL",
                                    "METTOL": "2016-11-08",
                                    "(No column name)": "4"
                                },
                                {
                                    "SZOBA_FK": "NULL",
                                    "METTOL": "2016-11-09",
                                    "(No column name)": "3"
                                },
                                {
                                    "SZOBA_FK": "NULL",
                                    "METTOL": "2016-11-10",
                                    "(No column name)": "4"
                                },
                                {
                                    "SZOBA_FK": "NULL",
                                    "METTOL": "2016-11-15",
                                    "(No column name)": "3"
                                },
                                {
                                    "SZOBA_FK": "NULL",
                                    "METTOL": "2016-11-16",
                                    "(No column name)": "4"
                                },
                                {
                                    "SZOBA_FK": "NULL",
                                    "METTOL": "2016-11-19",
                                    "(No column name)": "8"
                                },
                                {
                                    "SZOBA_FK": "NULL",
                                    "METTOL": "2016-11-22",
                                    "(No column name)": "6"
                                },
                                {
                                    "SZOBA_FK": "NULL",
                                    "METTOL": "2016-11-23",
                                    "(No column name)": "8"
                                },
                                {
                                    "SZOBA_FK": "NULL",
                                    "METTOL": "2016-11-25",
                                    "(No column name)": "6"
                                },
                                {
                                    "SZOBA_FK": "NULL",
                                    "METTOL": "2016-11-27",
                                    "(No column name)": "3"
                                },
                                {
                                    "SZOBA_FK": "NULL",
                                    "METTOL": "2016-11-28",
                                    "(No column name)": "3"
                                },
                                {
                                    "SZOBA_FK": "NULL",
                                    "METTOL": "2016-11-29",
                                    "(No column name)": "4"
                                },
                                {
                                    "SZOBA_FK": "NULL",
                                    "METTOL": "2016-12-02",
                                    "(No column name)": "3"
                                },
                                {
                                    "SZOBA_FK": "NULL",
                                    "METTOL": "2016-12-04",
                                    "(No column name)": "3"
                                },
                                {
                                    "SZOBA_FK": "NULL",
                                    "METTOL": "2016-12-05",
                                    "(No column name)": "4"
                                },
                                {
                                    "SZOBA_FK": "NULL",
                                    "METTOL": "2016-12-06",
                                    "(No column name)": "5"
                                },
                                {
                                    "SZOBA_FK": "NULL",
                                    "METTOL": "2016-12-07",
                                    "(No column name)": "3"
                                },
                                {
                                    "SZOBA_FK": "NULL",
                                    "METTOL": "2016-12-15",
                                    "(No column name)": "3"
                                },
                                {
                                    "SZOBA_FK": "NULL",
                                    "METTOL": "2016-12-17",
                                    "(No column name)": "10"
                                },
                                {
                                    "SZOBA_FK": "NULL",
                                    "METTOL": "2016-12-22",
                                    "(No column name)": "3"
                                },
                                {
                                    "SZOBA_FK": "NULL",
                                    "METTOL": "2016-12-24",
                                    "(No column name)": "3"
                                },
                                {
                                    "SZOBA_FK": "NULL",
                                    "METTOL": "2016-12-25",
                                    "(No column name)": "9"
                                },
                                {
                                    "SZOBA_FK": "NULL",
                                    "METTOL": "2016-12-26",
                                    "(No column name)": "3"
                                },
                                {
                                    "SZOBA_FK": "NULL",
                                    "METTOL": "2016-12-29",
                                    "(No column name)": "5"
                                },
                                {
                                    "SZOBA_FK": "NULL",
                                    "METTOL": "2017-01-01",
                                    "(No column name)": "4"
                                },
                                {
                                    "SZOBA_FK": "NULL",
                                    "METTOL": "2017-01-03",
                                    "(No column name)": "3"
                                },
                                {
                                    "SZOBA_FK": "NULL",
                                    "METTOL": "2017-01-05",
                                    "(No column name)": "3"
                                },
                                {
                                    "SZOBA_FK": "NULL",
                                    "METTOL": "2017-01-09",
                                    "(No column name)": "5"
                                },
                                {
                                    "SZOBA_FK": "NULL",
                                    "METTOL": "2017-01-16",
                                    "(No column name)": "8"
                                },
                                {
                                    "SZOBA_FK": "NULL",
                                    "METTOL": "2017-01-17",
                                    "(No column name)": "5"
                                },
                                {
                                    "SZOBA_FK": "NULL",
                                    "METTOL": "2017-01-19",
                                    "(No column name)": "3"
                                },
                                {
                                    "SZOBA_FK": "NULL",
                                    "METTOL": "2017-01-22",
                                    "(No column name)": "7"
                                },
                                {
                                    "SZOBA_FK": "NULL",
                                    "METTOL": "2017-01-23",
                                    "(No column name)": "4"
                                },
                                {
                                    "SZOBA_FK": "NULL",
                                    "METTOL": "2017-01-28",
                                    "(No column name)": "3"
                                },
                                {
                                    "SZOBA_FK": "NULL",
                                    "METTOL": "2017-01-30",
                                    "(No column name)": "3"
                                },
                                {
                                    "SZOBA_FK": "NULL",
                                    "METTOL": "2017-02-03",
                                    "(No column name)": "3"
                                },
                                {
                                    "SZOBA_FK": "NULL",
                                    "METTOL": "2017-02-04",
                                    "(No column name)": "6"
                                },
                                {
                                    "SZOBA_FK": "NULL",
                                    "METTOL": "2017-02-05",
                                    "(No column name)": "5"
                                },
                                {
                                    "SZOBA_FK": "NULL",
                                    "METTOL": "2017-02-06",
                                    "(No column name)": "3"
                                },
                                {
                                    "SZOBA_FK": "NULL",
                                    "METTOL": "2017-02-08",
                                    "(No column name)": "5"
                                },
                                {
                                    "SZOBA_FK": "NULL",
                                    "METTOL": "2017-02-12",
                                    "(No column name)": "9"
                                },
                                {
                                    "SZOBA_FK": "NULL",
                                    "METTOL": "2017-02-13",
                                    "(No column name)": "5"
                                },
                                {
                                    "SZOBA_FK": "NULL",
                                    "METTOL": "2017-02-14",
                                    "(No column name)": "3"
                                },
                                {
                                    "SZOBA_FK": "NULL",
                                    "METTOL": "2017-02-16",
                                    "(No column name)": "9"
                                },
                                {
                                    "SZOBA_FK": "NULL",
                                    "METTOL": "2017-02-18",
                                    "(No column name)": "4"
                                },
                                {
                                    "SZOBA_FK": "NULL",
                                    "METTOL": "2017-02-20",
                                    "(No column name)": "4"
                                },
                                {
                                    "SZOBA_FK": "NULL",
                                    "METTOL": "2017-02-21",
                                    "(No column name)": "3"
                                },
                                {
                                    "SZOBA_FK": "NULL",
                                    "METTOL": "2017-02-23",
                                    "(No column name)": "6"
                                },
                                {
                                    "SZOBA_FK": "NULL",
                                    "METTOL": "2017-02-24",
                                    "(No column name)": "5"
                                },
                                {
                                    "SZOBA_FK": "NULL",
                                    "METTOL": "2017-02-26",
                                    "(No column name)": "4"
                                },
                                {
                                    "SZOBA_FK": "NULL",
                                    "METTOL": "NULL",
                                    "(No column name)": "1027"
                                },
                                {
                                    "SZOBA_FK": "23",
                                    "METTOL": "NULL",
                                    "(No column name)": "3"
                                },
                                {
                                    "SZOBA_FK": "46",
                                    "METTOL": "NULL",
                                    "(No column name)": "4"
                                },
                                {
                                    "SZOBA_FK": "69",
                                    "METTOL": "NULL",
                                    "(No column name)": "4"
                                },
                                {
                                    "SZOBA_FK": "92",
                                    "METTOL": "NULL",
                                    "(No column name)": "6"
                                },
                                {
                                    "SZOBA_FK": "115",
                                    "METTOL": "NULL",
                                    "(No column name)": "7"
                                },
                                {
                                    "SZOBA_FK": "138",
                                    "METTOL": "NULL",
                                    "(No column name)": "7"
                                },
                                {
                                    "SZOBA_FK": "161",
                                    "METTOL": "NULL",
                                    "(No column name)": "6"
                                },
                                {
                                    "SZOBA_FK": "29",
                                    "METTOL": "NULL",
                                    "(No column name)": "6"
                                },
                                {
                                    "SZOBA_FK": "169",
                                    "METTOL": "NULL",
                                    "(No column name)": "6"
                                },
                                {
                                    "SZOBA_FK": "175",
                                    "METTOL": "NULL",
                                    "(No column name)": "5"
                                },
                                {
                                    "SZOBA_FK": "75",
                                    "METTOL": "NULL",
                                    "(No column name)": "3"
                                },
                                {
                                    "SZOBA_FK": "132",
                                    "METTOL": "NULL",
                                    "(No column name)": "6"
                                },
                                {
                                    "SZOBA_FK": "9",
                                    "METTOL": "NULL",
                                    "(No column name)": "6"
                                },
                                {
                                    "SZOBA_FK": "181",
                                    "METTOL": "NULL",
                                    "(No column name)": "6"
                                },
                                {
                                    "SZOBA_FK": "15",
                                    "METTOL": "NULL",
                                    "(No column name)": "6"
                                },
                                {
                                    "SZOBA_FK": "109",
                                    "METTOL": "NULL",
                                    "(No column name)": "7"
                                },
                                {
                                    "SZOBA_FK": "158",
                                    "METTOL": "NULL",
                                    "(No column name)": "3"
                                },
                                {
                                    "SZOBA_FK": "89",
                                    "METTOL": "NULL",
                                    "(No column name)": "8"
                                },
                                {
                                    "SZOBA_FK": "195",
                                    "METTOL": "NULL",
                                    "(No column name)": "6"
                                },
                                {
                                    "SZOBA_FK": "3",
                                    "METTOL": "NULL",
                                    "(No column name)": "8"
                                },
                                {
                                    "SZOBA_FK": "146",
                                    "METTOL": "NULL",
                                    "(No column name)": "6"
                                },
                                {
                                    "SZOBA_FK": "152",
                                    "METTOL": "NULL",
                                    "(No column name)": "4"
                                },
                                {
                                    "SZOBA_FK": "52",
                                    "METTOL": "NULL",
                                    "(No column name)": "5"
                                },
                                {
                                    "SZOBA_FK": "95",
                                    "METTOL": "NULL",
                                    "(No column name)": "4"
                                },
                                {
                                    "SZOBA_FK": "189",
                                    "METTOL": "NULL",
                                    "(No column name)": "5"
                                },
                                {
                                    "SZOBA_FK": "72",
                                    "METTOL": "NULL",
                                    "(No column name)": "4"
                                },
                                {
                                    "SZOBA_FK": "118",
                                    "METTOL": "NULL",
                                    "(No column name)": "7"
                                },
                                {
                                    "SZOBA_FK": "172",
                                    "METTOL": "NULL",
                                    "(No column name)": "9"
                                },
                                {
                                    "SZOBA_FK": "78",
                                    "METTOL": "NULL",
                                    "(No column name)": "6"
                                },
                                {
                                    "SZOBA_FK": "66",
                                    "METTOL": "NULL",
                                    "(No column name)": "4"
                                },
                                {
                                    "SZOBA_FK": "126",
                                    "METTOL": "NULL",
                                    "(No column name)": "6"
                                },
                                {
                                    "SZOBA_FK": "12",
                                    "METTOL": "NULL",
                                    "(No column name)": "9"
                                },
                                {
                                    "SZOBA_FK": "178",
                                    "METTOL": "NULL",
                                    "(No column name)": "4"
                                },
                                {
                                    "SZOBA_FK": "35",
                                    "METTOL": "NULL",
                                    "(No column name)": "9"
                                },
                                {
                                    "SZOBA_FK": "129",
                                    "METTOL": "NULL",
                                    "(No column name)": "4"
                                },
                                {
                                    "SZOBA_FK": "155",
                                    "METTOL": "NULL",
                                    "(No column name)": "5"
                                },
                                {
                                    "SZOBA_FK": "106",
                                    "METTOL": "NULL",
                                    "(No column name)": "6"
                                },
                                {
                                    "SZOBA_FK": "86",
                                    "METTOL": "NULL",
                                    "(No column name)": "5"
                                },
                                {
                                    "SZOBA_FK": "135",
                                    "METTOL": "NULL",
                                    "(No column name)": "3"
                                },
                                {
                                    "SZOBA_FK": "63",
                                    "METTOL": "NULL",
                                    "(No column name)": "4"
                                },
                                {
                                    "SZOBA_FK": "112",
                                    "METTOL": "NULL",
                                    "(No column name)": "5"
                                },
                                {
                                    "SZOBA_FK": "6",
                                    "METTOL": "NULL",
                                    "(No column name)": "6"
                                },
                                {
                                    "SZOBA_FK": "43",
                                    "METTOL": "NULL",
                                    "(No column name)": "8"
                                },
                                {
                                    "SZOBA_FK": "55",
                                    "METTOL": "NULL",
                                    "(No column name)": "8"
                                },
                                {
                                    "SZOBA_FK": "98",
                                    "METTOL": "NULL",
                                    "(No column name)": "4"
                                },
                                {
                                    "SZOBA_FK": "49",
                                    "METTOL": "NULL",
                                    "(No column name)": "7"
                                },
                                {
                                    "SZOBA_FK": "149",
                                    "METTOL": "NULL",
                                    "(No column name)": "7"
                                },
                                {
                                    "SZOBA_FK": "198",
                                    "METTOL": "NULL",
                                    "(No column name)": "8"
                                },
                                {
                                    "SZOBA_FK": "190",
                                    "METTOL": "NULL",
                                    "(No column name)": "5"
                                },
                                {
                                    "SZOBA_FK": "144",
                                    "METTOL": "NULL",
                                    "(No column name)": "5"
                                },
                                {
                                    "SZOBA_FK": "184",
                                    "METTOL": "NULL",
                                    "(No column name)": "4"
                                },
                                {
                                    "SZOBA_FK": "113",
                                    "METTOL": "NULL",
                                    "(No column name)": "5"
                                },
                                {
                                    "SZOBA_FK": "67",
                                    "METTOL": "NULL",
                                    "(No column name)": "6"
                                },
                                {
                                    "SZOBA_FK": "21",
                                    "METTOL": "NULL",
                                    "(No column name)": "4"
                                },
                                {
                                    "SZOBA_FK": "27",
                                    "METTOL": "NULL",
                                    "(No column name)": "7"
                                },
                                {
                                    "SZOBA_FK": "127",
                                    "METTOL": "NULL",
                                    "(No column name)": "7"
                                },
                                {
                                    "SZOBA_FK": "121",
                                    "METTOL": "NULL",
                                    "(No column name)": "8"
                                },
                                {
                                    "SZOBA_FK": "173",
                                    "METTOL": "NULL",
                                    "(No column name)": "4"
                                },
                                {
                                    "SZOBA_FK": "107",
                                    "METTOL": "NULL",
                                    "(No column name)": "5"
                                },
                                {
                                    "SZOBA_FK": "156",
                                    "METTOL": "NULL",
                                    "(No column name)": "7"
                                },
                                {
                                    "SZOBA_FK": "58",
                                    "METTOL": "NULL",
                                    "(No column name)": "13"
                                },
                                {
                                    "SZOBA_FK": "130",
                                    "METTOL": "NULL",
                                    "(No column name)": "6"
                                },
                                {
                                    "SZOBA_FK": "81",
                                    "METTOL": "NULL",
                                    "(No column name)": "5"
                                },
                                {
                                    "SZOBA_FK": "64",
                                    "METTOL": "NULL",
                                    "(No column name)": "6"
                                },
                                {
                                    "SZOBA_FK": "87",
                                    "METTOL": "NULL",
                                    "(No column name)": "5"
                                },
                                {
                                    "SZOBA_FK": "38",
                                    "METTOL": "NULL",
                                    "(No column name)": "8"
                                },
                                {
                                    "SZOBA_FK": "101",
                                    "METTOL": "NULL",
                                    "(No column name)": "3"
                                },
                                {
                                    "SZOBA_FK": "7",
                                    "METTOL": "NULL",
                                    "(No column name)": "6"
                                },
                                {
                                    "SZOBA_FK": "44",
                                    "METTOL": "NULL",
                                    "(No column name)": "6"
                                },
                                {
                                    "SZOBA_FK": "193",
                                    "METTOL": "NULL",
                                    "(No column name)": "7"
                                },
                                {
                                    "SZOBA_FK": "150",
                                    "METTOL": "NULL",
                                    "(No column name)": "6"
                                },
                                {
                                    "SZOBA_FK": "1",
                                    "METTOL": "NULL",
                                    "(No column name)": "8"
                                },
                                {
                                    "SZOBA_FK": "50",
                                    "METTOL": "NULL",
                                    "(No column name)": "4"
                                },
                                {
                                    "SZOBA_FK": "24",
                                    "METTOL": "NULL",
                                    "(No column name)": "3"
                                },
                                {
                                    "SZOBA_FK": "141",
                                    "METTOL": "NULL",
                                    "(No column name)": "6"
                                },
                                {
                                    "SZOBA_FK": "70",
                                    "METTOL": "NULL",
                                    "(No column name)": "11"
                                },
                                {
                                    "SZOBA_FK": "93",
                                    "METTOL": "NULL",
                                    "(No column name)": "5"
                                },
                                {
                                    "SZOBA_FK": "187",
                                    "METTOL": "NULL",
                                    "(No column name)": "7"
                                },
                                {
                                    "SZOBA_FK": "164",
                                    "METTOL": "NULL",
                                    "(No column name)": "5"
                                },
                                {
                                    "SZOBA_FK": "30",
                                    "METTOL": "NULL",
                                    "(No column name)": "3"
                                },
                                {
                                    "SZOBA_FK": "18",
                                    "METTOL": "NULL",
                                    "(No column name)": "6"
                                },
                                {
                                    "SZOBA_FK": "170",
                                    "METTOL": "NULL",
                                    "(No column name)": "5"
                                },
                                {
                                    "SZOBA_FK": "176",
                                    "METTOL": "NULL",
                                    "(No column name)": "6"
                                },
                                {
                                    "SZOBA_FK": "124",
                                    "METTOL": "NULL",
                                    "(No column name)": "6"
                                },
                                {
                                    "SZOBA_FK": "84",
                                    "METTOL": "NULL",
                                    "(No column name)": "4"
                                },
                                {
                                    "SZOBA_FK": "153",
                                    "METTOL": "NULL",
                                    "(No column name)": "5"
                                },
                                {
                                    "SZOBA_FK": "110",
                                    "METTOL": "NULL",
                                    "(No column name)": "8"
                                },
                                {
                                    "SZOBA_FK": "10",
                                    "METTOL": "NULL",
                                    "(No column name)": "4"
                                },
                                {
                                    "SZOBA_FK": "133",
                                    "METTOL": "NULL",
                                    "(No column name)": "6"
                                },
                                {
                                    "SZOBA_FK": "61",
                                    "METTOL": "NULL",
                                    "(No column name)": "5"
                                },
                                {
                                    "SZOBA_FK": "196",
                                    "METTOL": "NULL",
                                    "(No column name)": "4"
                                },
                                {
                                    "SZOBA_FK": "90",
                                    "METTOL": "NULL",
                                    "(No column name)": "4"
                                },
                                {
                                    "SZOBA_FK": "104",
                                    "METTOL": "NULL",
                                    "(No column name)": "4"
                                },
                                {
                                    "SZOBA_FK": "4",
                                    "METTOL": "NULL",
                                    "(No column name)": "6"
                                },
                                {
                                    "SZOBA_FK": "119",
                                    "METTOL": "NULL",
                                    "(No column name)": "5"
                                },
                                {
                                    "SZOBA_FK": "96",
                                    "METTOL": "NULL",
                                    "(No column name)": "7"
                                },
                                {
                                    "SZOBA_FK": "165",
                                    "METTOL": "NULL",
                                    "(No column name)": "7"
                                },
                                {
                                    "SZOBA_FK": "188",
                                    "METTOL": "NULL",
                                    "(No column name)": "6"
                                },
                                {
                                    "SZOBA_FK": "79",
                                    "METTOL": "NULL",
                                    "(No column name)": "5"
                                },
                                {
                                    "SZOBA_FK": "19",
                                    "METTOL": "NULL",
                                    "(No column name)": "6"
                                },
                                {
                                    "SZOBA_FK": "171",
                                    "METTOL": "NULL",
                                    "(No column name)": "5"
                                },
                                {
                                    "SZOBA_FK": "73",
                                    "METTOL": "NULL",
                                    "(No column name)": "4"
                                },
                                {
                                    "SZOBA_FK": "36",
                                    "METTOL": "NULL",
                                    "(No column name)": "6"
                                },
                                {
                                    "SZOBA_FK": "179",
                                    "METTOL": "NULL",
                                    "(No column name)": "3"
                                },
                                {
                                    "SZOBA_FK": "85",
                                    "METTOL": "NULL",
                                    "(No column name)": "4"
                                },
                                {
                                    "SZOBA_FK": "136",
                                    "METTOL": "NULL",
                                    "(No column name)": "3"
                                },
                                {
                                    "SZOBA_FK": "62",
                                    "METTOL": "NULL",
                                    "(No column name)": "5"
                                },
                                {
                                    "SZOBA_FK": "13",
                                    "METTOL": "NULL",
                                    "(No column name)": "4"
                                },
                                {
                                    "SZOBA_FK": "42",
                                    "METTOL": "NULL",
                                    "(No column name)": "6"
                                },
                                {
                                    "SZOBA_FK": "5",
                                    "METTOL": "NULL",
                                    "(No column name)": "4"
                                },
                                {
                                    "SZOBA_FK": "99",
                                    "METTOL": "NULL",
                                    "(No column name)": "5"
                                },
                                {
                                    "SZOBA_FK": "148",
                                    "METTOL": "NULL",
                                    "(No column name)": "6"
                                },
                                {
                                    "SZOBA_FK": "168",
                                    "METTOL": "NULL",
                                    "(No column name)": "5"
                                },
                                {
                                    "SZOBA_FK": "191",
                                    "METTOL": "NULL",
                                    "(No column name)": "5"
                                },
                                {
                                    "SZOBA_FK": "139",
                                    "METTOL": "NULL",
                                    "(No column name)": "7"
                                },
                                {
                                    "SZOBA_FK": "162",
                                    "METTOL": "NULL",
                                    "(No column name)": "3"
                                },
                                {
                                    "SZOBA_FK": "185",
                                    "METTOL": "NULL",
                                    "(No column name)": "12"
                                },
                                {
                                    "SZOBA_FK": "128",
                                    "METTOL": "NULL",
                                    "(No column name)": "5"
                                },
                                {
                                    "SZOBA_FK": "122",
                                    "METTOL": "NULL",
                                    "(No column name)": "9"
                                },
                                {
                                    "SZOBA_FK": "22",
                                    "METTOL": "NULL",
                                    "(No column name)": "6"
                                },
                                {
                                    "SZOBA_FK": "76",
                                    "METTOL": "NULL",
                                    "(No column name)": "3"
                                },
                                {
                                    "SZOBA_FK": "59",
                                    "METTOL": "NULL",
                                    "(No column name)": "7"
                                },
                                {
                                    "SZOBA_FK": "82",
                                    "METTOL": "NULL",
                                    "(No column name)": "6"
                                },
                                {
                                    "SZOBA_FK": "39",
                                    "METTOL": "NULL",
                                    "(No column name)": "7"
                                },
                                {
                                    "SZOBA_FK": "33",
                                    "METTOL": "NULL",
                                    "(No column name)": "6"
                                },
                                {
                                    "SZOBA_FK": "182",
                                    "METTOL": "NULL",
                                    "(No column name)": "12"
                                },
                                {
                                    "SZOBA_FK": "16",
                                    "METTOL": "NULL",
                                    "(No column name)": "5"
                                },
                                {
                                    "SZOBA_FK": "88",
                                    "METTOL": "NULL",
                                    "(No column name)": "8"
                                },
                                {
                                    "SZOBA_FK": "45",
                                    "METTOL": "NULL",
                                    "(No column name)": "5"
                                },
                                {
                                    "SZOBA_FK": "145",
                                    "METTOL": "NULL",
                                    "(No column name)": "6"
                                },
                                {
                                    "SZOBA_FK": "2",
                                    "METTOL": "NULL",
                                    "(No column name)": "4"
                                },
                                {
                                    "SZOBA_FK": "48",
                                    "METTOL": "NULL",
                                    "(No column name)": "9"
                                },
                                {
                                    "SZOBA_FK": "71",
                                    "METTOL": "NULL",
                                    "(No column name)": "3"
                                },
                                {
                                    "SZOBA_FK": "94",
                                    "METTOL": "NULL",
                                    "(No column name)": "10"
                                },
                                {
                                    "SZOBA_FK": "117",
                                    "METTOL": "NULL",
                                    "(No column name)": "8"
                                },
                                {
                                    "SZOBA_FK": "140",
                                    "METTOL": "NULL",
                                    "(No column name)": "8"
                                },
                                {
                                    "SZOBA_FK": "163",
                                    "METTOL": "NULL",
                                    "(No column name)": "7"
                                },
                                {
                                    "SZOBA_FK": "186",
                                    "METTOL": "NULL",
                                    "(No column name)": "4"
                                },
                                {
                                    "SZOBA_FK": "77",
                                    "METTOL": "NULL",
                                    "(No column name)": "6"
                                },
                                {
                                    "SZOBA_FK": "17",
                                    "METTOL": "NULL",
                                    "(No column name)": "6"
                                },
                                {
                                    "SZOBA_FK": "31",
                                    "METTOL": "NULL",
                                    "(No column name)": "3"
                                },
                                {
                                    "SZOBA_FK": "123",
                                    "METTOL": "NULL",
                                    "(No column name)": "5"
                                },
                                {
                                    "SZOBA_FK": "83",
                                    "METTOL": "NULL",
                                    "(No column name)": "8"
                                },
                                {
                                    "SZOBA_FK": "177",
                                    "METTOL": "NULL",
                                    "(No column name)": "4"
                                },
                                {
                                    "SZOBA_FK": "154",
                                    "METTOL": "NULL",
                                    "(No column name)": "5"
                                },
                                {
                                    "SZOBA_FK": "134",
                                    "METTOL": "NULL",
                                    "(No column name)": "6"
                                },
                                {
                                    "SZOBA_FK": "34",
                                    "METTOL": "NULL",
                                    "(No column name)": "4"
                                },
                                {
                                    "SZOBA_FK": "40",
                                    "METTOL": "NULL",
                                    "(No column name)": "4"
                                },
                                {
                                    "SZOBA_FK": "11",
                                    "METTOL": "NULL",
                                    "(No column name)": "4"
                                },
                                {
                                    "SZOBA_FK": "183",
                                    "METTOL": "NULL",
                                    "(No column name)": "4"
                                },
                                {
                                    "SZOBA_FK": "111",
                                    "METTOL": "NULL",
                                    "(No column name)": "5"
                                },
                                {
                                    "SZOBA_FK": "160",
                                    "METTOL": "NULL",
                                    "(No column name)": "5"
                                },
                                {
                                    "SZOBA_FK": "54",
                                    "METTOL": "NULL",
                                    "(No column name)": "6"
                                },
                                {
                                    "SZOBA_FK": "91",
                                    "METTOL": "NULL",
                                    "(No column name)": "4"
                                },
                                {
                                    "SZOBA_FK": "103",
                                    "METTOL": "NULL",
                                    "(No column name)": "4"
                                },
                                {
                                    "SZOBA_FK": "97",
                                    "METTOL": "NULL",
                                    "(No column name)": "7"
                                },
                                {
                                    "SZOBA_FK": "197",
                                    "METTOL": "NULL",
                                    "(No column name)": "6"
                                },
                                {
                                    "SZOBA_FK": "143",
                                    "METTOL": "NULL",
                                    "(No column name)": "7"
                                },
                                {
                                    "SZOBA_FK": "120",
                                    "METTOL": "NULL",
                                    "(No column name)": "6"
                                },
                                {
                                    "SZOBA_FK": "166",
                                    "METTOL": "NULL",
                                    "(No column name)": "3"
                                },
                                {
                                    "SZOBA_FK": "114",
                                    "METTOL": "NULL",
                                    "(No column name)": "4"
                                },
                                {
                                    "SZOBA_FK": "20",
                                    "METTOL": "NULL",
                                    "(No column name)": "5"
                                },
                                {
                                    "SZOBA_FK": "68",
                                    "METTOL": "NULL",
                                    "(No column name)": "3"
                                },
                                {
                                    "SZOBA_FK": "80",
                                    "METTOL": "NULL",
                                    "(No column name)": "7"
                                },
                                {
                                    "SZOBA_FK": "28",
                                    "METTOL": "NULL",
                                    "(No column name)": "6"
                                },
                                {
                                    "SZOBA_FK": "174",
                                    "METTOL": "NULL",
                                    "(No column name)": "4"
                                },
                                {
                                    "SZOBA_FK": "74",
                                    "METTOL": "NULL",
                                    "(No column name)": "9"
                                },
                                {
                                    "SZOBA_FK": "131",
                                    "METTOL": "NULL",
                                    "(No column name)": "5"
                                },
                                {
                                    "SZOBA_FK": "180",
                                    "METTOL": "NULL",
                                    "(No column name)": "3"
                                },
                                {
                                    "SZOBA_FK": "57",
                                    "METTOL": "NULL",
                                    "(No column name)": "4"
                                },
                                {
                                    "SZOBA_FK": "157",
                                    "METTOL": "NULL",
                                    "(No column name)": "5"
                                },
                                {
                                    "SZOBA_FK": "14",
                                    "METTOL": "NULL",
                                    "(No column name)": "3"
                                },
                                {
                                    "SZOBA_FK": "37",
                                    "METTOL": "NULL",
                                    "(No column name)": "3"
                                },
                                {
                                    "SZOBA_FK": "137",
                                    "METTOL": "NULL",
                                    "(No column name)": "6"
                                },
                                {
                                    "SZOBA_FK": "8",
                                    "METTOL": "NULL",
                                    "(No column name)": "5"
                                },
                                {
                                    "SZOBA_FK": "51",
                                    "METTOL": "NULL",
                                    "(No column name)": "5"
                                },
                                {
                                    "SZOBA_FK": "151",
                                    "METTOL": "NULL",
                                    "(No column name)": "3"
                                },
                                {
                                    "SZOBA_FK": "100",
                                    "METTOL": "NULL",
                                    "(No column name)": "4"
                                }
                            ]
                        },
                        "text/html": [
                            "<table>",
                            "<tr><th>SZOBA_FK</th><th>METTOL</th><th>(No column name)</th></tr>",
                            "<tr><td>NULL</td><td>2016-04-06</td><td>5</td></tr>",
                            "<tr><td>NULL</td><td>2016-04-10</td><td>9</td></tr>",
                            "<tr><td>NULL</td><td>2016-04-19</td><td>4</td></tr>",
                            "<tr><td>NULL</td><td>2016-04-24</td><td>3</td></tr>",
                            "<tr><td>NULL</td><td>2016-04-27</td><td>3</td></tr>",
                            "<tr><td>NULL</td><td>2016-05-01</td><td>5</td></tr>",
                            "<tr><td>NULL</td><td>2016-05-08</td><td>5</td></tr>",
                            "<tr><td>NULL</td><td>2016-05-09</td><td>7</td></tr>",
                            "<tr><td>NULL</td><td>2016-05-12</td><td>3</td></tr>",
                            "<tr><td>NULL</td><td>2016-05-14</td><td>4</td></tr>",
                            "<tr><td>NULL</td><td>2016-05-17</td><td>3</td></tr>",
                            "<tr><td>NULL</td><td>2016-05-18</td><td>4</td></tr>",
                            "<tr><td>NULL</td><td>2016-05-21</td><td>5</td></tr>",
                            "<tr><td>NULL</td><td>2016-05-24</td><td>4</td></tr>",
                            "<tr><td>NULL</td><td>2016-05-27</td><td>3</td></tr>",
                            "<tr><td>NULL</td><td>2016-05-28</td><td>8</td></tr>",
                            "<tr><td>NULL</td><td>2016-05-29</td><td>3</td></tr>",
                            "<tr><td>NULL</td><td>2016-05-30</td><td>11</td></tr>",
                            "<tr><td>NULL</td><td>2016-06-02</td><td>4</td></tr>",
                            "<tr><td>165</td><td>2016-06-03</td><td>3</td></tr>",
                            "<tr><td>NULL</td><td>2016-06-03</td><td>9</td></tr>",
                            "<tr><td>NULL</td><td>2016-06-04</td><td>6</td></tr>",
                            "<tr><td>NULL</td><td>2016-06-06</td><td>14</td></tr>",
                            "<tr><td>NULL</td><td>2016-06-07</td><td>11</td></tr>",
                            "<tr><td>NULL</td><td>2016-06-08</td><td>4</td></tr>",
                            "<tr><td>NULL</td><td>2016-06-09</td><td>3</td></tr>",
                            "<tr><td>NULL</td><td>2016-06-10</td><td>10</td></tr>",
                            "<tr><td>NULL</td><td>2016-06-13</td><td>5</td></tr>",
                            "<tr><td>NULL</td><td>2016-06-16</td><td>8</td></tr>",
                            "<tr><td>NULL</td><td>2016-06-22</td><td>4</td></tr>",
                            "<tr><td>NULL</td><td>2016-06-23</td><td>4</td></tr>",
                            "<tr><td>NULL</td><td>2016-06-27</td><td>3</td></tr>",
                            "<tr><td>NULL</td><td>2016-06-30</td><td>3</td></tr>",
                            "<tr><td>NULL</td><td>2016-07-01</td><td>5</td></tr>",
                            "<tr><td>NULL</td><td>2016-07-03</td><td>5</td></tr>",
                            "<tr><td>NULL</td><td>2016-07-04</td><td>5</td></tr>",
                            "<tr><td>NULL</td><td>2016-07-06</td><td>3</td></tr>",
                            "<tr><td>NULL</td><td>2016-07-08</td><td>3</td></tr>",
                            "<tr><td>NULL</td><td>2016-07-12</td><td>3</td></tr>",
                            "<tr><td>NULL</td><td>2016-07-13</td><td>5</td></tr>",
                            "<tr><td>NULL</td><td>2016-07-14</td><td>6</td></tr>",
                            "<tr><td>NULL</td><td>2016-07-17</td><td>3</td></tr>",
                            "<tr><td>NULL</td><td>2016-07-18</td><td>7</td></tr>",
                            "<tr><td>NULL</td><td>2016-07-19</td><td>3</td></tr>",
                            "<tr><td>NULL</td><td>2016-07-20</td><td>10</td></tr>",
                            "<tr><td>NULL</td><td>2016-07-22</td><td>4</td></tr>",
                            "<tr><td>NULL</td><td>2016-07-24</td><td>5</td></tr>",
                            "<tr><td>NULL</td><td>2016-07-27</td><td>11</td></tr>",
                            "<tr><td>NULL</td><td>2016-07-28</td><td>7</td></tr>",
                            "<tr><td>NULL</td><td>2016-07-30</td><td>4</td></tr>",
                            "<tr><td>NULL</td><td>2016-08-01</td><td>4</td></tr>",
                            "<tr><td>NULL</td><td>2016-08-03</td><td>4</td></tr>",
                            "<tr><td>NULL</td><td>2016-08-05</td><td>3</td></tr>",
                            "<tr><td>NULL</td><td>2016-08-06</td><td>3</td></tr>",
                            "<tr><td>NULL</td><td>2016-08-12</td><td>6</td></tr>",
                            "<tr><td>NULL</td><td>2016-08-14</td><td>3</td></tr>",
                            "<tr><td>NULL</td><td>2016-08-16</td><td>12</td></tr>",
                            "<tr><td>NULL</td><td>2016-08-17</td><td>4</td></tr>",
                            "<tr><td>NULL</td><td>2016-08-20</td><td>5</td></tr>",
                            "<tr><td>NULL</td><td>2016-08-23</td><td>5</td></tr>",
                            "<tr><td>NULL</td><td>2016-08-24</td><td>10</td></tr>",
                            "<tr><td>NULL</td><td>2016-08-25</td><td>3</td></tr>",
                            "<tr><td>NULL</td><td>2016-08-28</td><td>5</td></tr>",
                            "<tr><td>NULL</td><td>2016-08-29</td><td>6</td></tr>",
                            "<tr><td>NULL</td><td>2016-09-02</td><td>3</td></tr>",
                            "<tr><td>NULL</td><td>2016-09-05</td><td>7</td></tr>",
                            "<tr><td>NULL</td><td>2016-09-08</td><td>3</td></tr>",
                            "<tr><td>NULL</td><td>2016-09-12</td><td>3</td></tr>",
                            "<tr><td>NULL</td><td>2016-09-13</td><td>4</td></tr>",
                            "<tr><td>NULL</td><td>2016-09-15</td><td>3</td></tr>",
                            "<tr><td>NULL</td><td>2016-09-16</td><td>3</td></tr>",
                            "<tr><td>NULL</td><td>2016-09-17</td><td>4</td></tr>",
                            "<tr><td>NULL</td><td>2016-09-18</td><td>4</td></tr>",
                            "<tr><td>NULL</td><td>2016-09-19</td><td>4</td></tr>",
                            "<tr><td>NULL</td><td>2016-09-23</td><td>4</td></tr>",
                            "<tr><td>NULL</td><td>2016-09-28</td><td>3</td></tr>",
                            "<tr><td>NULL</td><td>2016-09-30</td><td>8</td></tr>",
                            "<tr><td>NULL</td><td>2016-10-01</td><td>18</td></tr>",
                            "<tr><td>NULL</td><td>2016-10-03</td><td>3</td></tr>",
                            "<tr><td>NULL</td><td>2016-10-04</td><td>3</td></tr>",
                            "<tr><td>NULL</td><td>2016-10-08</td><td>7</td></tr>",
                            "<tr><td>NULL</td><td>2016-10-09</td><td>11</td></tr>",
                            "<tr><td>NULL</td><td>2016-10-15</td><td>6</td></tr>",
                            "<tr><td>NULL</td><td>2016-10-16</td><td>3</td></tr>",
                            "<tr><td>NULL</td><td>2016-10-17</td><td>3</td></tr>",
                            "<tr><td>NULL</td><td>2016-10-19</td><td>4</td></tr>",
                            "<tr><td>NULL</td><td>2016-10-20</td><td>4</td></tr>",
                            "<tr><td>NULL</td><td>2016-10-21</td><td>4</td></tr>",
                            "<tr><td>NULL</td><td>2016-10-22</td><td>4</td></tr>",
                            "<tr><td>NULL</td><td>2016-10-23</td><td>7</td></tr>",
                            "<tr><td>NULL</td><td>2016-10-24</td><td>3</td></tr>",
                            "<tr><td>NULL</td><td>2016-10-26</td><td>12</td></tr>",
                            "<tr><td>NULL</td><td>2016-10-27</td><td>4</td></tr>",
                            "<tr><td>NULL</td><td>2016-10-28</td><td>6</td></tr>",
                            "<tr><td>NULL</td><td>2016-10-29</td><td>5</td></tr>",
                            "<tr><td>NULL</td><td>2016-10-30</td><td>14</td></tr>",
                            "<tr><td>NULL</td><td>2016-11-01</td><td>3</td></tr>",
                            "<tr><td>NULL</td><td>2016-11-03</td><td>7</td></tr>",
                            "<tr><td>NULL</td><td>2016-11-05</td><td>8</td></tr>",
                            "<tr><td>NULL</td><td>2016-11-06</td><td>3</td></tr>",
                            "<tr><td>NULL</td><td>2016-11-07</td><td>6</td></tr>",
                            "<tr><td>NULL</td><td>2016-11-08</td><td>4</td></tr>",
                            "<tr><td>NULL</td><td>2016-11-09</td><td>3</td></tr>",
                            "<tr><td>NULL</td><td>2016-11-10</td><td>4</td></tr>",
                            "<tr><td>NULL</td><td>2016-11-15</td><td>3</td></tr>",
                            "<tr><td>NULL</td><td>2016-11-16</td><td>4</td></tr>",
                            "<tr><td>NULL</td><td>2016-11-19</td><td>8</td></tr>",
                            "<tr><td>NULL</td><td>2016-11-22</td><td>6</td></tr>",
                            "<tr><td>NULL</td><td>2016-11-23</td><td>8</td></tr>",
                            "<tr><td>NULL</td><td>2016-11-25</td><td>6</td></tr>",
                            "<tr><td>NULL</td><td>2016-11-27</td><td>3</td></tr>",
                            "<tr><td>NULL</td><td>2016-11-28</td><td>3</td></tr>",
                            "<tr><td>NULL</td><td>2016-11-29</td><td>4</td></tr>",
                            "<tr><td>NULL</td><td>2016-12-02</td><td>3</td></tr>",
                            "<tr><td>NULL</td><td>2016-12-04</td><td>3</td></tr>",
                            "<tr><td>NULL</td><td>2016-12-05</td><td>4</td></tr>",
                            "<tr><td>NULL</td><td>2016-12-06</td><td>5</td></tr>",
                            "<tr><td>NULL</td><td>2016-12-07</td><td>3</td></tr>",
                            "<tr><td>NULL</td><td>2016-12-15</td><td>3</td></tr>",
                            "<tr><td>NULL</td><td>2016-12-17</td><td>10</td></tr>",
                            "<tr><td>NULL</td><td>2016-12-22</td><td>3</td></tr>",
                            "<tr><td>NULL</td><td>2016-12-24</td><td>3</td></tr>",
                            "<tr><td>NULL</td><td>2016-12-25</td><td>9</td></tr>",
                            "<tr><td>NULL</td><td>2016-12-26</td><td>3</td></tr>",
                            "<tr><td>NULL</td><td>2016-12-29</td><td>5</td></tr>",
                            "<tr><td>NULL</td><td>2017-01-01</td><td>4</td></tr>",
                            "<tr><td>NULL</td><td>2017-01-03</td><td>3</td></tr>",
                            "<tr><td>NULL</td><td>2017-01-05</td><td>3</td></tr>",
                            "<tr><td>NULL</td><td>2017-01-09</td><td>5</td></tr>",
                            "<tr><td>NULL</td><td>2017-01-16</td><td>8</td></tr>",
                            "<tr><td>NULL</td><td>2017-01-17</td><td>5</td></tr>",
                            "<tr><td>NULL</td><td>2017-01-19</td><td>3</td></tr>",
                            "<tr><td>NULL</td><td>2017-01-22</td><td>7</td></tr>",
                            "<tr><td>NULL</td><td>2017-01-23</td><td>4</td></tr>",
                            "<tr><td>NULL</td><td>2017-01-28</td><td>3</td></tr>",
                            "<tr><td>NULL</td><td>2017-01-30</td><td>3</td></tr>",
                            "<tr><td>NULL</td><td>2017-02-03</td><td>3</td></tr>",
                            "<tr><td>NULL</td><td>2017-02-04</td><td>6</td></tr>",
                            "<tr><td>NULL</td><td>2017-02-05</td><td>5</td></tr>",
                            "<tr><td>NULL</td><td>2017-02-06</td><td>3</td></tr>",
                            "<tr><td>NULL</td><td>2017-02-08</td><td>5</td></tr>",
                            "<tr><td>NULL</td><td>2017-02-12</td><td>9</td></tr>",
                            "<tr><td>NULL</td><td>2017-02-13</td><td>5</td></tr>",
                            "<tr><td>NULL</td><td>2017-02-14</td><td>3</td></tr>",
                            "<tr><td>NULL</td><td>2017-02-16</td><td>9</td></tr>",
                            "<tr><td>NULL</td><td>2017-02-18</td><td>4</td></tr>",
                            "<tr><td>NULL</td><td>2017-02-20</td><td>4</td></tr>",
                            "<tr><td>NULL</td><td>2017-02-21</td><td>3</td></tr>",
                            "<tr><td>NULL</td><td>2017-02-23</td><td>6</td></tr>",
                            "<tr><td>NULL</td><td>2017-02-24</td><td>5</td></tr>",
                            "<tr><td>NULL</td><td>2017-02-26</td><td>4</td></tr>",
                            "<tr><td>NULL</td><td>NULL</td><td>1027</td></tr>",
                            "<tr><td>23</td><td>NULL</td><td>3</td></tr>",
                            "<tr><td>46</td><td>NULL</td><td>4</td></tr>",
                            "<tr><td>69</td><td>NULL</td><td>4</td></tr>",
                            "<tr><td>92</td><td>NULL</td><td>6</td></tr>",
                            "<tr><td>115</td><td>NULL</td><td>7</td></tr>",
                            "<tr><td>138</td><td>NULL</td><td>7</td></tr>",
                            "<tr><td>161</td><td>NULL</td><td>6</td></tr>",
                            "<tr><td>29</td><td>NULL</td><td>6</td></tr>",
                            "<tr><td>169</td><td>NULL</td><td>6</td></tr>",
                            "<tr><td>175</td><td>NULL</td><td>5</td></tr>",
                            "<tr><td>75</td><td>NULL</td><td>3</td></tr>",
                            "<tr><td>132</td><td>NULL</td><td>6</td></tr>",
                            "<tr><td>9</td><td>NULL</td><td>6</td></tr>",
                            "<tr><td>181</td><td>NULL</td><td>6</td></tr>",
                            "<tr><td>15</td><td>NULL</td><td>6</td></tr>",
                            "<tr><td>109</td><td>NULL</td><td>7</td></tr>",
                            "<tr><td>158</td><td>NULL</td><td>3</td></tr>",
                            "<tr><td>89</td><td>NULL</td><td>8</td></tr>",
                            "<tr><td>195</td><td>NULL</td><td>6</td></tr>",
                            "<tr><td>3</td><td>NULL</td><td>8</td></tr>",
                            "<tr><td>146</td><td>NULL</td><td>6</td></tr>",
                            "<tr><td>152</td><td>NULL</td><td>4</td></tr>",
                            "<tr><td>52</td><td>NULL</td><td>5</td></tr>",
                            "<tr><td>95</td><td>NULL</td><td>4</td></tr>",
                            "<tr><td>189</td><td>NULL</td><td>5</td></tr>",
                            "<tr><td>72</td><td>NULL</td><td>4</td></tr>",
                            "<tr><td>118</td><td>NULL</td><td>7</td></tr>",
                            "<tr><td>172</td><td>NULL</td><td>9</td></tr>",
                            "<tr><td>78</td><td>NULL</td><td>6</td></tr>",
                            "<tr><td>66</td><td>NULL</td><td>4</td></tr>",
                            "<tr><td>126</td><td>NULL</td><td>6</td></tr>",
                            "<tr><td>12</td><td>NULL</td><td>9</td></tr>",
                            "<tr><td>178</td><td>NULL</td><td>4</td></tr>",
                            "<tr><td>35</td><td>NULL</td><td>9</td></tr>",
                            "<tr><td>129</td><td>NULL</td><td>4</td></tr>",
                            "<tr><td>155</td><td>NULL</td><td>5</td></tr>",
                            "<tr><td>106</td><td>NULL</td><td>6</td></tr>",
                            "<tr><td>86</td><td>NULL</td><td>5</td></tr>",
                            "<tr><td>135</td><td>NULL</td><td>3</td></tr>",
                            "<tr><td>63</td><td>NULL</td><td>4</td></tr>",
                            "<tr><td>112</td><td>NULL</td><td>5</td></tr>",
                            "<tr><td>6</td><td>NULL</td><td>6</td></tr>",
                            "<tr><td>43</td><td>NULL</td><td>8</td></tr>",
                            "<tr><td>55</td><td>NULL</td><td>8</td></tr>",
                            "<tr><td>98</td><td>NULL</td><td>4</td></tr>",
                            "<tr><td>49</td><td>NULL</td><td>7</td></tr>",
                            "<tr><td>149</td><td>NULL</td><td>7</td></tr>",
                            "<tr><td>198</td><td>NULL</td><td>8</td></tr>",
                            "<tr><td>190</td><td>NULL</td><td>5</td></tr>",
                            "<tr><td>144</td><td>NULL</td><td>5</td></tr>",
                            "<tr><td>184</td><td>NULL</td><td>4</td></tr>",
                            "<tr><td>113</td><td>NULL</td><td>5</td></tr>",
                            "<tr><td>67</td><td>NULL</td><td>6</td></tr>",
                            "<tr><td>21</td><td>NULL</td><td>4</td></tr>",
                            "<tr><td>27</td><td>NULL</td><td>7</td></tr>",
                            "<tr><td>127</td><td>NULL</td><td>7</td></tr>",
                            "<tr><td>121</td><td>NULL</td><td>8</td></tr>",
                            "<tr><td>173</td><td>NULL</td><td>4</td></tr>",
                            "<tr><td>107</td><td>NULL</td><td>5</td></tr>",
                            "<tr><td>156</td><td>NULL</td><td>7</td></tr>",
                            "<tr><td>58</td><td>NULL</td><td>13</td></tr>",
                            "<tr><td>130</td><td>NULL</td><td>6</td></tr>",
                            "<tr><td>81</td><td>NULL</td><td>5</td></tr>",
                            "<tr><td>64</td><td>NULL</td><td>6</td></tr>",
                            "<tr><td>87</td><td>NULL</td><td>5</td></tr>",
                            "<tr><td>38</td><td>NULL</td><td>8</td></tr>",
                            "<tr><td>101</td><td>NULL</td><td>3</td></tr>",
                            "<tr><td>7</td><td>NULL</td><td>6</td></tr>",
                            "<tr><td>44</td><td>NULL</td><td>6</td></tr>",
                            "<tr><td>193</td><td>NULL</td><td>7</td></tr>",
                            "<tr><td>150</td><td>NULL</td><td>6</td></tr>",
                            "<tr><td>1</td><td>NULL</td><td>8</td></tr>",
                            "<tr><td>50</td><td>NULL</td><td>4</td></tr>",
                            "<tr><td>24</td><td>NULL</td><td>3</td></tr>",
                            "<tr><td>141</td><td>NULL</td><td>6</td></tr>",
                            "<tr><td>70</td><td>NULL</td><td>11</td></tr>",
                            "<tr><td>93</td><td>NULL</td><td>5</td></tr>",
                            "<tr><td>187</td><td>NULL</td><td>7</td></tr>",
                            "<tr><td>164</td><td>NULL</td><td>5</td></tr>",
                            "<tr><td>30</td><td>NULL</td><td>3</td></tr>",
                            "<tr><td>18</td><td>NULL</td><td>6</td></tr>",
                            "<tr><td>170</td><td>NULL</td><td>5</td></tr>",
                            "<tr><td>176</td><td>NULL</td><td>6</td></tr>",
                            "<tr><td>124</td><td>NULL</td><td>6</td></tr>",
                            "<tr><td>84</td><td>NULL</td><td>4</td></tr>",
                            "<tr><td>153</td><td>NULL</td><td>5</td></tr>",
                            "<tr><td>110</td><td>NULL</td><td>8</td></tr>",
                            "<tr><td>10</td><td>NULL</td><td>4</td></tr>",
                            "<tr><td>133</td><td>NULL</td><td>6</td></tr>",
                            "<tr><td>61</td><td>NULL</td><td>5</td></tr>",
                            "<tr><td>196</td><td>NULL</td><td>4</td></tr>",
                            "<tr><td>90</td><td>NULL</td><td>4</td></tr>",
                            "<tr><td>104</td><td>NULL</td><td>4</td></tr>",
                            "<tr><td>4</td><td>NULL</td><td>6</td></tr>",
                            "<tr><td>119</td><td>NULL</td><td>5</td></tr>",
                            "<tr><td>96</td><td>NULL</td><td>7</td></tr>",
                            "<tr><td>165</td><td>NULL</td><td>7</td></tr>",
                            "<tr><td>188</td><td>NULL</td><td>6</td></tr>",
                            "<tr><td>79</td><td>NULL</td><td>5</td></tr>",
                            "<tr><td>19</td><td>NULL</td><td>6</td></tr>",
                            "<tr><td>171</td><td>NULL</td><td>5</td></tr>",
                            "<tr><td>73</td><td>NULL</td><td>4</td></tr>",
                            "<tr><td>36</td><td>NULL</td><td>6</td></tr>",
                            "<tr><td>179</td><td>NULL</td><td>3</td></tr>",
                            "<tr><td>85</td><td>NULL</td><td>4</td></tr>",
                            "<tr><td>136</td><td>NULL</td><td>3</td></tr>",
                            "<tr><td>62</td><td>NULL</td><td>5</td></tr>",
                            "<tr><td>13</td><td>NULL</td><td>4</td></tr>",
                            "<tr><td>42</td><td>NULL</td><td>6</td></tr>",
                            "<tr><td>5</td><td>NULL</td><td>4</td></tr>",
                            "<tr><td>99</td><td>NULL</td><td>5</td></tr>",
                            "<tr><td>148</td><td>NULL</td><td>6</td></tr>",
                            "<tr><td>168</td><td>NULL</td><td>5</td></tr>",
                            "<tr><td>191</td><td>NULL</td><td>5</td></tr>",
                            "<tr><td>139</td><td>NULL</td><td>7</td></tr>",
                            "<tr><td>162</td><td>NULL</td><td>3</td></tr>",
                            "<tr><td>185</td><td>NULL</td><td>12</td></tr>",
                            "<tr><td>128</td><td>NULL</td><td>5</td></tr>",
                            "<tr><td>122</td><td>NULL</td><td>9</td></tr>",
                            "<tr><td>22</td><td>NULL</td><td>6</td></tr>",
                            "<tr><td>76</td><td>NULL</td><td>3</td></tr>",
                            "<tr><td>59</td><td>NULL</td><td>7</td></tr>",
                            "<tr><td>82</td><td>NULL</td><td>6</td></tr>",
                            "<tr><td>39</td><td>NULL</td><td>7</td></tr>",
                            "<tr><td>33</td><td>NULL</td><td>6</td></tr>",
                            "<tr><td>182</td><td>NULL</td><td>12</td></tr>",
                            "<tr><td>16</td><td>NULL</td><td>5</td></tr>",
                            "<tr><td>88</td><td>NULL</td><td>8</td></tr>",
                            "<tr><td>45</td><td>NULL</td><td>5</td></tr>",
                            "<tr><td>145</td><td>NULL</td><td>6</td></tr>",
                            "<tr><td>2</td><td>NULL</td><td>4</td></tr>",
                            "<tr><td>48</td><td>NULL</td><td>9</td></tr>",
                            "<tr><td>71</td><td>NULL</td><td>3</td></tr>",
                            "<tr><td>94</td><td>NULL</td><td>10</td></tr>",
                            "<tr><td>117</td><td>NULL</td><td>8</td></tr>",
                            "<tr><td>140</td><td>NULL</td><td>8</td></tr>",
                            "<tr><td>163</td><td>NULL</td><td>7</td></tr>",
                            "<tr><td>186</td><td>NULL</td><td>4</td></tr>",
                            "<tr><td>77</td><td>NULL</td><td>6</td></tr>",
                            "<tr><td>17</td><td>NULL</td><td>6</td></tr>",
                            "<tr><td>31</td><td>NULL</td><td>3</td></tr>",
                            "<tr><td>123</td><td>NULL</td><td>5</td></tr>",
                            "<tr><td>83</td><td>NULL</td><td>8</td></tr>",
                            "<tr><td>177</td><td>NULL</td><td>4</td></tr>",
                            "<tr><td>154</td><td>NULL</td><td>5</td></tr>",
                            "<tr><td>134</td><td>NULL</td><td>6</td></tr>",
                            "<tr><td>34</td><td>NULL</td><td>4</td></tr>",
                            "<tr><td>40</td><td>NULL</td><td>4</td></tr>",
                            "<tr><td>11</td><td>NULL</td><td>4</td></tr>",
                            "<tr><td>183</td><td>NULL</td><td>4</td></tr>",
                            "<tr><td>111</td><td>NULL</td><td>5</td></tr>",
                            "<tr><td>160</td><td>NULL</td><td>5</td></tr>",
                            "<tr><td>54</td><td>NULL</td><td>6</td></tr>",
                            "<tr><td>91</td><td>NULL</td><td>4</td></tr>",
                            "<tr><td>103</td><td>NULL</td><td>4</td></tr>",
                            "<tr><td>97</td><td>NULL</td><td>7</td></tr>",
                            "<tr><td>197</td><td>NULL</td><td>6</td></tr>",
                            "<tr><td>143</td><td>NULL</td><td>7</td></tr>",
                            "<tr><td>120</td><td>NULL</td><td>6</td></tr>",
                            "<tr><td>166</td><td>NULL</td><td>3</td></tr>",
                            "<tr><td>114</td><td>NULL</td><td>4</td></tr>",
                            "<tr><td>20</td><td>NULL</td><td>5</td></tr>",
                            "<tr><td>68</td><td>NULL</td><td>3</td></tr>",
                            "<tr><td>80</td><td>NULL</td><td>7</td></tr>",
                            "<tr><td>28</td><td>NULL</td><td>6</td></tr>",
                            "<tr><td>174</td><td>NULL</td><td>4</td></tr>",
                            "<tr><td>74</td><td>NULL</td><td>9</td></tr>",
                            "<tr><td>131</td><td>NULL</td><td>5</td></tr>",
                            "<tr><td>180</td><td>NULL</td><td>3</td></tr>",
                            "<tr><td>57</td><td>NULL</td><td>4</td></tr>",
                            "<tr><td>157</td><td>NULL</td><td>5</td></tr>",
                            "<tr><td>14</td><td>NULL</td><td>3</td></tr>",
                            "<tr><td>37</td><td>NULL</td><td>3</td></tr>",
                            "<tr><td>137</td><td>NULL</td><td>6</td></tr>",
                            "<tr><td>8</td><td>NULL</td><td>5</td></tr>",
                            "<tr><td>51</td><td>NULL</td><td>5</td></tr>",
                            "<tr><td>151</td><td>NULL</td><td>3</td></tr>",
                            "<tr><td>100</td><td>NULL</td><td>4</td></tr>",
                            "</table>"
                        ]
                    }
                }
            ],
            "execution_count": 15
        },
        {
            "cell_type": "markdown",
            "source": [
                "Készítsünk ideiglenes táblát #MASKED\\_GUEST néven, ahol \n",
                "\n",
                "- a tábla felépítése megegyezik a vendég tábláéval, DE\n",
                "- a vendégek nevének csak az első 2, és az utolsó 3 karaktere jelenjen meg, közötte X-ek legyenek!"
            ],
            "metadata": {
                "azdata_cell_guid": "3ad0b52d-ed67-45b8-98b4-e1158387167b"
            },
            "attachments": {}
        },
        {
            "cell_type": "code",
            "source": [
                "CREATE TABLE #MASKED_GUEST(\r\n",
                "\t[USERNEV] [nvarchar](20) PRIMARY KEY NOT NULL,\r\n",
                "\t[NEV] [nvarchar](50) NOT NULL MASKED WITH (FUNCTION='PARTIAL(2,\"xxxx\",3)'),\r\n",
                "\t[EMAIL] [nvarchar](60) NOT NULL,\r\n",
                "\t[SZAML_CIM] [nvarchar](100) NULL,\r\n",
                "\t[SZUL_DAT] [date] NULL)"
            ],
            "metadata": {
                "azdata_cell_guid": "6e1660d2-8a0d-4fe5-9dd2-99b57480ad1f",
                "language": "sql"
            },
            "outputs": [],
            "execution_count": null
        }
    ]
}